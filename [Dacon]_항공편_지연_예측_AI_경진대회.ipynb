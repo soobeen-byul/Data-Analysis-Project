{
  "nbformat": 4,
  "nbformat_minor": 0,
  "metadata": {
    "colab": {
      "provenance": [],
      "toc_visible": true
    },
    "kernelspec": {
      "name": "python3",
      "display_name": "Python 3"
    },
    "language_info": {
      "name": "python"
    }
  },
  "cells": [
    {
      "cell_type": "markdown",
      "source": [
        "# **데이콘 항공편 지연 예측 AI 경진대회 🛫**\n",
        "\n",
        "- 주제 : 일부 레이블만 주어진 학습 데이터셋을 이용한 항공편 지연 여부 예측\n",
        "- 설명 : 레이블이 없는 데이터와 함께 항공편 지연 여부를 예측하는 AI 모델 개발\n",
        "- 최종 성적 : PRIVATE 20위\n",
        "\n",
        "\n",
        "- [🔗 DACON URL](https://dacon.io/competitions/official/236094/overview/description)"
      ],
      "metadata": {
        "id": "DghoqXWUXjHq"
      }
    },
    {
      "cell_type": "markdown",
      "source": [
        "**Dataset Info.**\n",
        "\n",
        "- train.csv : 1,000,000개의 데이터\n",
        "- test.csv : 1,000,000개의 데이터\n",
        "- Features\n",
        "  - ID : 샘플 고유 id\n",
        "  - Month: 해당 항공편의 출발 월\n",
        "  - Day_of_Month: Month에 해당하는 월의 날짜\n",
        "  - Estimated_Departure_Time: 전산 시스템을 바탕으로 측정된 비행기의 출발 시간 (현지 시각, HH:MM 형식)\n",
        "  - Estimated_Arrival_Time: 전산 시스템을 바탕으로 측정된 비행기의 도착 시간 (현지 시각, HH:MM 형식)\n",
        "  - Cancelled: 해당 항공편의 취소 여부 (0: 취소되지 않음, 1: 취소됨)\n",
        "  - Diverted: 해당 항공편의 경유 여부 (0: 취소되지 않음, 1: 취소됨)\n",
        "  - Origin_Airport: 해당 항공편 출발 공항의 고유 코드 (IATA 공항 코드)\n",
        "  - Origin_Airport_ID: 해당 항공편 출발 공항의 고유 ID (US DOT ID)\n",
        "  - Origin_State: 해당 항공편 출발 공항이 위치한 주의 이름\n",
        "  - Destination_Airport: 해당 항공편 도착 공항의 고유 코드 (IATA 공항 코드)\n",
        "  - Destination_Airport_ID: 해당 항공편 도착 공항의 고유 ID (US DOT ID)\n",
        "  - Destination_State: 해당 항공편 도착 공항이 위치한 주의 이름\n",
        "  - Distance: 출발 공항과 도착 공항 사이의 거리 (mile 단위)\n",
        "  - Airline: 해당 항공편을 운항하는 항공사\n",
        "  - Carrier_Code(IATA): 해당 항공편을 운항하는 항공사의 고유 코드 \n",
        "  (IATA 공항 코드, 단 다른 항공사가 같은 코드를 보유할 수도 있음)\n",
        "  Carrier_ID(DOT): 해당 항공편을 운항하는 항공사의 고유 ID (US DOT ID)\n",
        "  - Tail_Number: 해당 항공편을 운항하는 항공기의 고유 등록번호\n",
        "  - Delay: 항공편 지연 여부 (Not_Delayed, Delayed)\n",
        "   - 예측해야 하는 타깃\n",
        "   - 다수의 데이터에 레이블이 존재하지 않음\n",
        "  준지도학습을 통해 레이블링 가능\n",
        "\n",
        "\n"
      ],
      "metadata": {
        "id": "8xm6bTaPYNgx"
      }
    },
    {
      "cell_type": "code",
      "execution_count": 1,
      "metadata": {
        "colab": {
          "base_uri": "https://localhost:8080/",
          "height": 53
        },
        "id": "9U1Wp0cvMhkU",
        "outputId": "6a5bee75-1abd-4045-f562-02d9d39fc737"
      },
      "outputs": [
        {
          "output_type": "stream",
          "name": "stdout",
          "text": [
            "Mounted at /content/gdrive\n"
          ]
        },
        {
          "output_type": "execute_result",
          "data": {
            "text/plain": [
              "'/content/gdrive/MyDrive/dacon'"
            ],
            "application/vnd.google.colaboratory.intrinsic+json": {
              "type": "string"
            }
          },
          "metadata": {},
          "execution_count": 1
        }
      ],
      "source": [
        "import pandas as pd\n",
        "import numpy as np\n",
        "import random\n",
        "import os\n",
        "import gc\n",
        "\n",
        "from google.colab import drive\n",
        "drive.mount('/content/gdrive')\n",
        "\n",
        "import os\n",
        "os.chdir('/content/gdrive/MyDrive/dacon')\n",
        "os.getcwd()"
      ]
    },
    {
      "cell_type": "markdown",
      "source": [
        "# **📌 pip list**"
      ],
      "metadata": {
        "id": "dIHs9881Ut8K"
      }
    },
    {
      "cell_type": "code",
      "source": [
        "pip install pycaret"
      ],
      "metadata": {
        "id": "eS1nZx_KMw9x"
      },
      "execution_count": null,
      "outputs": []
    },
    {
      "cell_type": "code",
      "source": [
        "pip install  pytorch_tabnet"
      ],
      "metadata": {
        "id": "aC75apvzUsi8"
      },
      "execution_count": null,
      "outputs": []
    },
    {
      "cell_type": "code",
      "source": [
        "!pip install optuna"
      ],
      "metadata": {
        "id": "mykgAiIqcugR"
      },
      "execution_count": null,
      "outputs": []
    },
    {
      "cell_type": "markdown",
      "source": [
        "# **📊 Feature Selection**"
      ],
      "metadata": {
        "id": "EawYRlZ7O7cw"
      }
    },
    {
      "cell_type": "code",
      "source": [],
      "metadata": {
        "id": "181jUacrXiLa"
      },
      "execution_count": null,
      "outputs": []
    },
    {
      "cell_type": "code",
      "source": [
        "from sklearn.ensemble import RandomForestClassifier\n",
        "from sklearn.model_selection import train_test_split\n",
        "from sklearn import metrics\n",
        "from sklearn.preprocessing import LabelEncoder\n"
      ],
      "metadata": {
        "id": "6pW7xFyZNbKx"
      },
      "execution_count": 12,
      "outputs": []
    },
    {
      "cell_type": "code",
      "source": [
        "train = pd.read_parquet('./train.parquet')\n",
        "\n",
        "# Origin_State, Destination_State 다른 위치정보와 중복되므로 삭제\n",
        "train.drop(columns=['Origin_State','Destination_State','Origin_Airport','Destination_Airport'],inplace=True)\n",
        "#Cancelled, Diverted 제거\n",
        "train.drop(columns=['Cancelled','Diverted'],inplace=True)\n",
        "#고유값 삭제\n",
        "train.drop(columns=['ID'],inplace=True)\n",
        "\n",
        "#LaeblEncoding\n",
        "qual_col = ['Tail_Number','Carrier_Code(IATA)','Airline']\n",
        "\n",
        "for i in qual_col:\n",
        "    le = LabelEncoder()\n",
        "    le=le.fit(train[i])\n",
        "    train[i]=le.transform(train[i])\n",
        "    \n",
        "tmp_train=train.dropna().reset_index(drop=True)\n",
        "\n",
        "X=tmp_train.drop(columns={'Delay'})\n",
        "y=tmp_train['Delay']\n",
        "\n",
        "X.info()"
      ],
      "metadata": {
        "colab": {
          "base_uri": "https://localhost:8080/"
        },
        "id": "fi5x7R7oPtYK",
        "outputId": "c93bea2e-c126-4458-aab5-7f2682f46336"
      },
      "execution_count": 15,
      "outputs": [
        {
          "output_type": "stream",
          "name": "stdout",
          "text": [
            "<class 'pandas.core.frame.DataFrame'>\n",
            "RangeIndex: 180475 entries, 0 to 180474\n",
            "Data columns (total 11 columns):\n",
            " #   Column                    Non-Null Count   Dtype  \n",
            "---  ------                    --------------   -----  \n",
            " 0   Month                     180475 non-null  int64  \n",
            " 1   Day_of_Month              180475 non-null  int64  \n",
            " 2   Estimated_Departure_Time  180475 non-null  float64\n",
            " 3   Estimated_Arrival_Time    180475 non-null  float64\n",
            " 4   Origin_Airport_ID         180475 non-null  int64  \n",
            " 5   Destination_Airport_ID    180475 non-null  int64  \n",
            " 6   Distance                  180475 non-null  float64\n",
            " 7   Airline                   180475 non-null  int64  \n",
            " 8   Carrier_Code(IATA)        180475 non-null  int64  \n",
            " 9   Carrier_ID(DOT)           180475 non-null  float64\n",
            " 10  Tail_Number               180475 non-null  int64  \n",
            "dtypes: float64(4), int64(7)\n",
            "memory usage: 15.1 MB\n"
          ]
        }
      ]
    },
    {
      "cell_type": "code",
      "source": [
        "X_train, X_test, y_train, y_test = train_test_split(X, y, test_size=0.3) # 70% training and 30% test\n",
        "\n",
        "clf = RandomForestClassifier(n_estimators=100) \n",
        "clf.fit(X_train, y_train)\n",
        "\n",
        "# 테스트데이터셋 결과값 예측 및 정확도 출력\n",
        "y_pred = clf.predict(X_test)\n",
        "\n",
        "print(\"Accuracy:\",metrics.accuracy_score(y_test, y_pred))"
      ],
      "metadata": {
        "colab": {
          "base_uri": "https://localhost:8080/"
        },
        "id": "0nKiTuVPP9KO",
        "outputId": "179d488f-5f57-48c5-87b5-c79a69aa74d1"
      },
      "execution_count": 16,
      "outputs": [
        {
          "output_type": "stream",
          "name": "stdout",
          "text": [
            "Accuracy: 0.8215651146039192\n"
          ]
        }
      ]
    },
    {
      "cell_type": "code",
      "source": [
        "feature_imp = pd.Series(clf.feature_importances_, index=X.columns).sort_values(ascending=False)\n",
        "feature_imp"
      ],
      "metadata": {
        "colab": {
          "base_uri": "https://localhost:8080/"
        },
        "id": "D6k9YN9fQUt_",
        "outputId": "f254221d-741d-4896-cf3a-2674fad1f7f2"
      },
      "execution_count": 17,
      "outputs": [
        {
          "output_type": "execute_result",
          "data": {
            "text/plain": [
              "Tail_Number                 0.149106\n",
              "Estimated_Arrival_Time      0.136921\n",
              "Estimated_Departure_Time    0.132387\n",
              "Distance                    0.117652\n",
              "Day_of_Month                0.112234\n",
              "Destination_Airport_ID      0.093870\n",
              "Origin_Airport_ID           0.091795\n",
              "Month                       0.068570\n",
              "Airline                     0.035861\n",
              "Carrier_ID(DOT)             0.034070\n",
              "Carrier_Code(IATA)          0.027534\n",
              "dtype: float64"
            ]
          },
          "metadata": {},
          "execution_count": 17
        }
      ]
    },
    {
      "cell_type": "code",
      "source": [
        "# 변수 중요도 시각화\n",
        "import matplotlib.pyplot as plt\n",
        "import seaborn as sns\n",
        "%matplotlib inline\n",
        "\n",
        "sns.barplot(x=feature_imp, y=feature_imp.index)\n",
        "\n",
        "plt.xlabel('Feature Importance Score')\n",
        "plt.ylabel('Features')\n",
        "plt.show()"
      ],
      "metadata": {
        "colab": {
          "base_uri": "https://localhost:8080/",
          "height": 449
        },
        "id": "fIU_cpE6T-9O",
        "outputId": "2d7cce7a-26b0-46be-9936-b360375e61bc"
      },
      "execution_count": 18,
      "outputs": [
        {
          "output_type": "display_data",
          "data": {
            "text/plain": [
              "<Figure size 640x480 with 1 Axes>"
            ],
            "image/png": "[encoded data removed]"
          },
          "metadata": {}
        }
      ]
    },
    {
      "cell_type": "markdown",
      "source": [
        "# **🔎 Missing values processing**"
      ],
      "metadata": {
        "id": "KzbeOYdAQ6Qt"
      }
    },
    {
      "cell_type": "markdown",
      "source": [
        "## **1. Time Prediction Modeling**\n",
        "\n",
        "- arrival na : 97,352건 → 출발 시간 예측 모델 1\n",
        "- departure na : 97,331건 → 도착 시간 예측 모델 2\n",
        "- all na : 11,688건\n",
        "- notna : 793,629건"
      ],
      "metadata": {
        "id": "aM4075prRXhi"
      }
    },
    {
      "cell_type": "code",
      "source": [
        "train = pd.read_parquet('./train.parquet')\n",
        "test = pd.read_parquet('./test.parquet')\n",
        "sample_submission = pd.read_csv('data/sample_submission.csv', index_col = 0)\n",
        "\n",
        "# Origin_State, Destination_State 다른 위치정보와 중복되므로 삭제 #항공기 정보 삭제\n",
        "train.drop(columns=['Origin_State','Destination_State','Origin_Airport','Destination_Airport','Airline', 'Carrier_Code(IATA)','Carrier_ID(DOT)'],inplace=True)\n",
        "#Cancelled, Diverted 제거\n",
        "train.drop(columns=['Cancelled','Diverted'],inplace=True)\n",
        "#고유값 삭제\n",
        "train.drop(columns=['ID'],inplace=True)\n",
        "\n",
        "# Origin_State, Destination_State 다른 위치정보와 중복되므로 삭제 #항공기 정보 삭제\n",
        "test.drop(columns=['Origin_State','Destination_State','Origin_Airport','Destination_Airport','Airline', 'Carrier_Code(IATA)','Carrier_ID(DOT)'],inplace=True)\n",
        "#Cancelled, Diverted 제거\n",
        "test.drop(columns=['Cancelled','Diverted'],inplace=True)\n",
        "#고유값 삭제\n",
        "test.drop(columns=['ID'],inplace=True)\n",
        "\n",
        "train.info()"
      ],
      "metadata": {
        "id": "crz0d1iZ5lSv"
      },
      "execution_count": null,
      "outputs": []
    },
    {
      "cell_type": "code",
      "source": [
        "train.isnull().sum()"
      ],
      "metadata": {
        "colab": {
          "base_uri": "https://localhost:8080/"
        },
        "id": "SvEJs0yV5nKb",
        "outputId": "4e6f0049-1b79-4fc6-c0c8-0c349260fbc6"
      },
      "execution_count": null,
      "outputs": [
        {
          "output_type": "execute_result",
          "data": {
            "text/plain": [
              "Month                            0\n",
              "Day_of_Month                     0\n",
              "Estimated_Departure_Time    109019\n",
              "Estimated_Arrival_Time      109040\n",
              "Origin_Airport_ID                0\n",
              "Destination_Airport_ID           0\n",
              "Distance                         0\n",
              "Tail_Number                      0\n",
              "Delay                       744999\n",
              "dtype: int64"
            ]
          },
          "metadata": {},
          "execution_count": 187
        }
      ]
    },
    {
      "cell_type": "code",
      "source": [
        "from sklearn.preprocessing import LabelEncoder\n",
        "#질적 변수들을 수치화합니다\n",
        "qual_col = ['Tail_Number']\n",
        "\n",
        "for i in qual_col:\n",
        "    le = LabelEncoder()\n",
        "    le=le.fit(train[i])\n",
        "    train[i]=le.transform(train[i])"
      ],
      "metadata": {
        "id": "KQSc_x3wioo0"
      },
      "execution_count": null,
      "outputs": []
    },
    {
      "cell_type": "code",
      "source": [
        "from sklearn.model_selection import train_test_split\n",
        "\n",
        "time_train=train.drop(columns={'Delay'})\n",
        "arr_na=time_train[time_train['Estimated_Arrival_Time'].isna() & time_train['Estimated_Departure_Time'].notna()]\n",
        "dep_na=time_train[time_train['Estimated_Arrival_Time'].notna() & time_train['Estimated_Departure_Time'].isna()]\n",
        "all_na=time_train[time_train['Estimated_Arrival_Time'].isna() & time_train['Estimated_Departure_Time'].isna()]\n",
        "\n",
        "X=time_train.dropna()\n",
        "\n",
        "#arrival na / departure na / all na / all notna\n",
        "print(len(arr_na),len(dep_na),len(all_na),len(X))"
      ],
      "metadata": {
        "colab": {
          "base_uri": "https://localhost:8080/"
        },
        "id": "OF2AuAZ28Klk",
        "outputId": "12fbe0db-9e2e-4231-8633-a891ea7c8050"
      },
      "execution_count": null,
      "outputs": [
        {
          "output_type": "stream",
          "name": "stdout",
          "text": [
            "97352 97331 11688 793629\n"
          ]
        }
      ]
    },
    {
      "cell_type": "code",
      "source": [],
      "metadata": {
        "id": "fEHtKVwiUDvU"
      },
      "execution_count": null,
      "outputs": []
    },
    {
      "cell_type": "markdown",
      "source": [
        "**출발 시간 예측 모델**"
      ],
      "metadata": {
        "id": "mlDkjO2SSYYW"
      }
    },
    {
      "cell_type": "code",
      "source": [
        "from pycaret.regression import *\n",
        "\n",
        "reg_test_1 = setup(data=X,\n",
        "                   target='Estimated_Arrival_Time',\n",
        "                   train_size= 0.8,\n",
        "                   fold=5,\n",
        "                   use_gpu=True)"
      ],
      "metadata": {
        "colab": {
          "base_uri": "https://localhost:8080/",
          "height": 645
        },
        "id": "_XtDaUz1-NNC",
        "outputId": "c08c3de0-b69f-4459-9984-72fb54e5e728"
      },
      "execution_count": null,
      "outputs": [
        {
          "output_type": "display_data",
          "data": {
            "text/plain": [
              "<pandas.io.formats.style.Styler at 0x7f1096deca90>"
            ],
            "text/html": [
              "<style type=\"text/css\">\n",
              "#T_fef3f_row8_col1, #T_fef3f_row15_col1 {\n",
              "  background-color: lightgreen;\n",
              "}\n",
              "</style>\n",
              "<table id=\"T_fef3f\" class=\"dataframe\">\n",
              "  <thead>\n",
              "    <tr>\n",
              "      <th class=\"blank level0\" >&nbsp;</th>\n",
              "      <th id=\"T_fef3f_level0_col0\" class=\"col_heading level0 col0\" >Description</th>\n",
              "      <th id=\"T_fef3f_level0_col1\" class=\"col_heading level0 col1\" >Value</th>\n",
              "    </tr>\n",
              "  </thead>\n",
              "  <tbody>\n",
              "    <tr>\n",
              "      <th id=\"T_fef3f_level0_row0\" class=\"row_heading level0 row0\" >0</th>\n",
              "      <td id=\"T_fef3f_row0_col0\" class=\"data row0 col0\" >Session id</td>\n",
              "      <td id=\"T_fef3f_row0_col1\" class=\"data row0 col1\" >2163</td>\n",
              "    </tr>\n",
              "    <tr>\n",
              "      <th id=\"T_fef3f_level0_row1\" class=\"row_heading level0 row1\" >1</th>\n",
              "      <td id=\"T_fef3f_row1_col0\" class=\"data row1 col0\" >Target</td>\n",
              "      <td id=\"T_fef3f_row1_col1\" class=\"data row1 col1\" >Estimated_Arrival_Time</td>\n",
              "    </tr>\n",
              "    <tr>\n",
              "      <th id=\"T_fef3f_level0_row2\" class=\"row_heading level0 row2\" >2</th>\n",
              "      <td id=\"T_fef3f_row2_col0\" class=\"data row2 col0\" >Target type</td>\n",
              "      <td id=\"T_fef3f_row2_col1\" class=\"data row2 col1\" >Regression</td>\n",
              "    </tr>\n",
              "    <tr>\n",
              "      <th id=\"T_fef3f_level0_row3\" class=\"row_heading level0 row3\" >3</th>\n",
              "      <td id=\"T_fef3f_row3_col0\" class=\"data row3 col0\" >Original data shape</td>\n",
              "      <td id=\"T_fef3f_row3_col1\" class=\"data row3 col1\" >(793629, 8)</td>\n",
              "    </tr>\n",
              "    <tr>\n",
              "      <th id=\"T_fef3f_level0_row4\" class=\"row_heading level0 row4\" >4</th>\n",
              "      <td id=\"T_fef3f_row4_col0\" class=\"data row4 col0\" >Transformed data shape</td>\n",
              "      <td id=\"T_fef3f_row4_col1\" class=\"data row4 col1\" >(793629, 8)</td>\n",
              "    </tr>\n",
              "    <tr>\n",
              "      <th id=\"T_fef3f_level0_row5\" class=\"row_heading level0 row5\" >5</th>\n",
              "      <td id=\"T_fef3f_row5_col0\" class=\"data row5 col0\" >Transformed train set shape</td>\n",
              "      <td id=\"T_fef3f_row5_col1\" class=\"data row5 col1\" >(634903, 8)</td>\n",
              "    </tr>\n",
              "    <tr>\n",
              "      <th id=\"T_fef3f_level0_row6\" class=\"row_heading level0 row6\" >6</th>\n",
              "      <td id=\"T_fef3f_row6_col0\" class=\"data row6 col0\" >Transformed test set shape</td>\n",
              "      <td id=\"T_fef3f_row6_col1\" class=\"data row6 col1\" >(158726, 8)</td>\n",
              "    </tr>\n",
              "    <tr>\n",
              "      <th id=\"T_fef3f_level0_row7\" class=\"row_heading level0 row7\" >7</th>\n",
              "      <td id=\"T_fef3f_row7_col0\" class=\"data row7 col0\" >Numeric features</td>\n",
              "      <td id=\"T_fef3f_row7_col1\" class=\"data row7 col1\" >7</td>\n",
              "    </tr>\n",
              "    <tr>\n",
              "      <th id=\"T_fef3f_level0_row8\" class=\"row_heading level0 row8\" >8</th>\n",
              "      <td id=\"T_fef3f_row8_col0\" class=\"data row8 col0\" >Preprocess</td>\n",
              "      <td id=\"T_fef3f_row8_col1\" class=\"data row8 col1\" >True</td>\n",
              "    </tr>\n",
              "    <tr>\n",
              "      <th id=\"T_fef3f_level0_row9\" class=\"row_heading level0 row9\" >9</th>\n",
              "      <td id=\"T_fef3f_row9_col0\" class=\"data row9 col0\" >Imputation type</td>\n",
              "      <td id=\"T_fef3f_row9_col1\" class=\"data row9 col1\" >simple</td>\n",
              "    </tr>\n",
              "    <tr>\n",
              "      <th id=\"T_fef3f_level0_row10\" class=\"row_heading level0 row10\" >10</th>\n",
              "      <td id=\"T_fef3f_row10_col0\" class=\"data row10 col0\" >Numeric imputation</td>\n",
              "      <td id=\"T_fef3f_row10_col1\" class=\"data row10 col1\" >mean</td>\n",
              "    </tr>\n",
              "    <tr>\n",
              "      <th id=\"T_fef3f_level0_row11\" class=\"row_heading level0 row11\" >11</th>\n",
              "      <td id=\"T_fef3f_row11_col0\" class=\"data row11 col0\" >Categorical imputation</td>\n",
              "      <td id=\"T_fef3f_row11_col1\" class=\"data row11 col1\" >mode</td>\n",
              "    </tr>\n",
              "    <tr>\n",
              "      <th id=\"T_fef3f_level0_row12\" class=\"row_heading level0 row12\" >12</th>\n",
              "      <td id=\"T_fef3f_row12_col0\" class=\"data row12 col0\" >Fold Generator</td>\n",
              "      <td id=\"T_fef3f_row12_col1\" class=\"data row12 col1\" >KFold</td>\n",
              "    </tr>\n",
              "    <tr>\n",
              "      <th id=\"T_fef3f_level0_row13\" class=\"row_heading level0 row13\" >13</th>\n",
              "      <td id=\"T_fef3f_row13_col0\" class=\"data row13 col0\" >Fold Number</td>\n",
              "      <td id=\"T_fef3f_row13_col1\" class=\"data row13 col1\" >5</td>\n",
              "    </tr>\n",
              "    <tr>\n",
              "      <th id=\"T_fef3f_level0_row14\" class=\"row_heading level0 row14\" >14</th>\n",
              "      <td id=\"T_fef3f_row14_col0\" class=\"data row14 col0\" >CPU Jobs</td>\n",
              "      <td id=\"T_fef3f_row14_col1\" class=\"data row14 col1\" >-1</td>\n",
              "    </tr>\n",
              "    <tr>\n",
              "      <th id=\"T_fef3f_level0_row15\" class=\"row_heading level0 row15\" >15</th>\n",
              "      <td id=\"T_fef3f_row15_col0\" class=\"data row15 col0\" >Use GPU</td>\n",
              "      <td id=\"T_fef3f_row15_col1\" class=\"data row15 col1\" >True</td>\n",
              "    </tr>\n",
              "    <tr>\n",
              "      <th id=\"T_fef3f_level0_row16\" class=\"row_heading level0 row16\" >16</th>\n",
              "      <td id=\"T_fef3f_row16_col0\" class=\"data row16 col0\" >Log Experiment</td>\n",
              "      <td id=\"T_fef3f_row16_col1\" class=\"data row16 col1\" >False</td>\n",
              "    </tr>\n",
              "    <tr>\n",
              "      <th id=\"T_fef3f_level0_row17\" class=\"row_heading level0 row17\" >17</th>\n",
              "      <td id=\"T_fef3f_row17_col0\" class=\"data row17 col0\" >Experiment Name</td>\n",
              "      <td id=\"T_fef3f_row17_col1\" class=\"data row17 col1\" >reg-default-name</td>\n",
              "    </tr>\n",
              "    <tr>\n",
              "      <th id=\"T_fef3f_level0_row18\" class=\"row_heading level0 row18\" >18</th>\n",
              "      <td id=\"T_fef3f_row18_col0\" class=\"data row18 col0\" >USI</td>\n",
              "      <td id=\"T_fef3f_row18_col1\" class=\"data row18 col1\" >e8d7</td>\n",
              "    </tr>\n",
              "  </tbody>\n",
              "</table>\n"
            ]
          },
          "metadata": {}
        }
      ]
    },
    {
      "cell_type": "code",
      "source": [
        "lgbm=create_model('lightgbm')"
      ],
      "metadata": {
        "colab": {
          "base_uri": "https://localhost:8080/",
          "height": 300,
          "referenced_widgets": [
            "e7b0bd178d214e1085b2a88f2a7fec04",
            "94c504c16d274204b8cc28092d4517f3",
            "626a4506708f4c37afe5318a121ae706",
            "11e188890e344f458a82ed82e67f5c4f",
            "0bc8a5c899f74665813c20a38cb63429",
            "ed0102965d17492b831fd3833f773350",
            "1c7142dd2a50429781e9caffb3153752",
            "c0dd5706a2e2456fa3af64b66051ca77",
            "4885ba40784648e18158de39293f1497",
            "f77ec7f7e44c4b39a75d60960955ea44",
            "575020ef8f474260bf31ec69bcf72879"
          ]
        },
        "id": "bD6ycZNR-RrQ",
        "outputId": "f3654546-bc6e-46ae-e118-9a0ef992f9a2"
      },
      "execution_count": null,
      "outputs": [
        {
          "output_type": "display_data",
          "data": {
            "text/plain": [
              "<IPython.core.display.HTML object>"
            ],
            "text/html": []
          },
          "metadata": {}
        },
        {
          "output_type": "display_data",
          "data": {
            "text/plain": [
              "<pandas.io.formats.style.Styler at 0x7f1090354a60>"
            ],
            "text/html": [
              "<style type=\"text/css\">\n",
              "#T_cb7bf_row5_col0, #T_cb7bf_row5_col1, #T_cb7bf_row5_col2, #T_cb7bf_row5_col3, #T_cb7bf_row5_col4, #T_cb7bf_row5_col5 {\n",
              "  background: yellow;\n",
              "}\n",
              "</style>\n",
              "<table id=\"T_cb7bf\" class=\"dataframe\">\n",
              "  <thead>\n",
              "    <tr>\n",
              "      <th class=\"blank level0\" >&nbsp;</th>\n",
              "      <th id=\"T_cb7bf_level0_col0\" class=\"col_heading level0 col0\" >MAE</th>\n",
              "      <th id=\"T_cb7bf_level0_col1\" class=\"col_heading level0 col1\" >MSE</th>\n",
              "      <th id=\"T_cb7bf_level0_col2\" class=\"col_heading level0 col2\" >RMSE</th>\n",
              "      <th id=\"T_cb7bf_level0_col3\" class=\"col_heading level0 col3\" >R2</th>\n",
              "      <th id=\"T_cb7bf_level0_col4\" class=\"col_heading level0 col4\" >RMSLE</th>\n",
              "      <th id=\"T_cb7bf_level0_col5\" class=\"col_heading level0 col5\" >MAPE</th>\n",
              "    </tr>\n",
              "    <tr>\n",
              "      <th class=\"index_name level0\" >Fold</th>\n",
              "      <th class=\"blank col0\" >&nbsp;</th>\n",
              "      <th class=\"blank col1\" >&nbsp;</th>\n",
              "      <th class=\"blank col2\" >&nbsp;</th>\n",
              "      <th class=\"blank col3\" >&nbsp;</th>\n",
              "      <th class=\"blank col4\" >&nbsp;</th>\n",
              "      <th class=\"blank col5\" >&nbsp;</th>\n",
              "    </tr>\n",
              "  </thead>\n",
              "  <tbody>\n",
              "    <tr>\n",
              "      <th id=\"T_cb7bf_level0_row0\" class=\"row_heading level0 row0\" >0</th>\n",
              "      <td id=\"T_cb7bf_row0_col0\" class=\"data row0 col0\" >81.9209</td>\n",
              "      <td id=\"T_cb7bf_row0_col1\" class=\"data row0 col1\" >36819.7486</td>\n",
              "      <td id=\"T_cb7bf_row0_col2\" class=\"data row0 col2\" >191.8847</td>\n",
              "      <td id=\"T_cb7bf_row0_col3\" class=\"data row0 col3\" >0.8635</td>\n",
              "      <td id=\"T_cb7bf_row0_col4\" class=\"data row0 col4\" >0.5068</td>\n",
              "      <td id=\"T_cb7bf_row0_col5\" class=\"data row0 col5\" >1.9485</td>\n",
              "    </tr>\n",
              "    <tr>\n",
              "      <th id=\"T_cb7bf_level0_row1\" class=\"row_heading level0 row1\" >1</th>\n",
              "      <td id=\"T_cb7bf_row1_col0\" class=\"data row1 col0\" >81.4545</td>\n",
              "      <td id=\"T_cb7bf_row1_col1\" class=\"data row1 col1\" >37159.3840</td>\n",
              "      <td id=\"T_cb7bf_row1_col2\" class=\"data row1 col2\" >192.7677</td>\n",
              "      <td id=\"T_cb7bf_row1_col3\" class=\"data row1 col3\" >0.8630</td>\n",
              "      <td id=\"T_cb7bf_row1_col4\" class=\"data row1 col4\" >0.5115</td>\n",
              "      <td id=\"T_cb7bf_row1_col5\" class=\"data row1 col5\" >1.9800</td>\n",
              "    </tr>\n",
              "    <tr>\n",
              "      <th id=\"T_cb7bf_level0_row2\" class=\"row_heading level0 row2\" >2</th>\n",
              "      <td id=\"T_cb7bf_row2_col0\" class=\"data row2 col0\" >82.7703</td>\n",
              "      <td id=\"T_cb7bf_row2_col1\" class=\"data row2 col1\" >38112.9078</td>\n",
              "      <td id=\"T_cb7bf_row2_col2\" class=\"data row2 col2\" >195.2253</td>\n",
              "      <td id=\"T_cb7bf_row2_col3\" class=\"data row2 col3\" >0.8587</td>\n",
              "      <td id=\"T_cb7bf_row2_col4\" class=\"data row2 col4\" >0.5125</td>\n",
              "      <td id=\"T_cb7bf_row2_col5\" class=\"data row2 col5\" >1.9777</td>\n",
              "    </tr>\n",
              "    <tr>\n",
              "      <th id=\"T_cb7bf_level0_row3\" class=\"row_heading level0 row3\" >3</th>\n",
              "      <td id=\"T_cb7bf_row3_col0\" class=\"data row3 col0\" >83.0959</td>\n",
              "      <td id=\"T_cb7bf_row3_col1\" class=\"data row3 col1\" >38984.9393</td>\n",
              "      <td id=\"T_cb7bf_row3_col2\" class=\"data row3 col2\" >197.4460</td>\n",
              "      <td id=\"T_cb7bf_row3_col3\" class=\"data row3 col3\" >0.8570</td>\n",
              "      <td id=\"T_cb7bf_row3_col4\" class=\"data row3 col4\" >0.5298</td>\n",
              "      <td id=\"T_cb7bf_row3_col5\" class=\"data row3 col5\" >2.1832</td>\n",
              "    </tr>\n",
              "    <tr>\n",
              "      <th id=\"T_cb7bf_level0_row4\" class=\"row_heading level0 row4\" >4</th>\n",
              "      <td id=\"T_cb7bf_row4_col0\" class=\"data row4 col0\" >83.7733</td>\n",
              "      <td id=\"T_cb7bf_row4_col1\" class=\"data row4 col1\" >39859.4247</td>\n",
              "      <td id=\"T_cb7bf_row4_col2\" class=\"data row4 col2\" >199.6483</td>\n",
              "      <td id=\"T_cb7bf_row4_col3\" class=\"data row4 col3\" >0.8532</td>\n",
              "      <td id=\"T_cb7bf_row4_col4\" class=\"data row4 col4\" >0.5297</td>\n",
              "      <td id=\"T_cb7bf_row4_col5\" class=\"data row4 col5\" >2.3186</td>\n",
              "    </tr>\n",
              "    <tr>\n",
              "      <th id=\"T_cb7bf_level0_row5\" class=\"row_heading level0 row5\" >Mean</th>\n",
              "      <td id=\"T_cb7bf_row5_col0\" class=\"data row5 col0\" >82.6030</td>\n",
              "      <td id=\"T_cb7bf_row5_col1\" class=\"data row5 col1\" >38187.2809</td>\n",
              "      <td id=\"T_cb7bf_row5_col2\" class=\"data row5 col2\" >195.3944</td>\n",
              "      <td id=\"T_cb7bf_row5_col3\" class=\"data row5 col3\" >0.8591</td>\n",
              "      <td id=\"T_cb7bf_row5_col4\" class=\"data row5 col4\" >0.5181</td>\n",
              "      <td id=\"T_cb7bf_row5_col5\" class=\"data row5 col5\" >2.0816</td>\n",
              "    </tr>\n",
              "    <tr>\n",
              "      <th id=\"T_cb7bf_level0_row6\" class=\"row_heading level0 row6\" >Std</th>\n",
              "      <td id=\"T_cb7bf_row6_col0\" class=\"data row6 col0\" >0.8276</td>\n",
              "      <td id=\"T_cb7bf_row6_col1\" class=\"data row6 col1\" >1128.2351</td>\n",
              "      <td id=\"T_cb7bf_row6_col2\" class=\"data row6 col2\" >2.8827</td>\n",
              "      <td id=\"T_cb7bf_row6_col3\" class=\"data row6 col3\" >0.0039</td>\n",
              "      <td id=\"T_cb7bf_row6_col4\" class=\"data row6 col4\" >0.0097</td>\n",
              "      <td id=\"T_cb7bf_row6_col5\" class=\"data row6 col5\" >0.1451</td>\n",
              "    </tr>\n",
              "  </tbody>\n",
              "</table>\n"
            ]
          },
          "metadata": {}
        },
        {
          "output_type": "display_data",
          "data": {
            "text/plain": [
              "Processing:   0%|          | 0/4 [00:00<?, ?it/s]"
            ],
            "application/vnd.jupyter.widget-view+json": {
              "version_major": 2,
              "version_minor": 0,
              "model_id": "e7b0bd178d214e1085b2a88f2a7fec04"
            }
          },
          "metadata": {
            "application/vnd.jupyter.widget-view+json": {
              "colab": {
                "custom_widget_manager": {
                  "url": "https://ssl.gstatic.com/colaboratory-static/widgets/colab-cdn-widget-manager/b3e629b1971e1542/manager.min.js"
                }
              }
            }
          }
        },
        {
          "output_type": "display_data",
          "data": {
            "text/plain": [
              "<IPython.core.display.HTML object>"
            ],
            "text/html": []
          },
          "metadata": {}
        }
      ]
    },
    {
      "cell_type": "code",
      "source": [
        "tuned_lgbm = tune_model(lgbm,optimize='RMSE')\n",
        "predict_model(tuned_lgbm)"
      ],
      "metadata": {
        "colab": {
          "base_uri": "https://localhost:8080/",
          "height": 808,
          "referenced_widgets": [
            "55d8b59c94e342b7a5aef5bfc73afa60",
            "d7b5100517fa4c018e6271e0ce21f551",
            "58ec1d60d9ad4cb085038bc2504c2215",
            "d10f3f56ed194f9cb0a7560fc04aad86",
            "ace404c20b5049eaa4709d5d2f20cc7e",
            "5c818f4707774f1ba83afbf457832823",
            "1e6e1722b2594b56b7b4817c423f203b",
            "ff826b4c4d3147afb04ac3ecfc1e66d5",
            "256750fa5e9f4d6695be4eeb35eab122",
            "b681a6dab7674f86a6a397f6657dd0c4",
            "8bb0a0ab15df49d19c9c0439f5f6b407"
          ]
        },
        "id": "SxMdlA-S_4F2",
        "outputId": "ad640ea9-ff32-4338-9803-728132560507"
      },
      "execution_count": null,
      "outputs": [
        {
          "output_type": "display_data",
          "data": {
            "text/plain": [
              "<IPython.core.display.HTML object>"
            ],
            "text/html": []
          },
          "metadata": {}
        },
        {
          "output_type": "display_data",
          "data": {
            "text/plain": [
              "<pandas.io.formats.style.Styler at 0x7f10903037c0>"
            ],
            "text/html": [
              "<style type=\"text/css\">\n",
              "#T_c5f88_row5_col0, #T_c5f88_row5_col1, #T_c5f88_row5_col2, #T_c5f88_row5_col3, #T_c5f88_row5_col4, #T_c5f88_row5_col5 {\n",
              "  background: yellow;\n",
              "}\n",
              "</style>\n",
              "<table id=\"T_c5f88\" class=\"dataframe\">\n",
              "  <thead>\n",
              "    <tr>\n",
              "      <th class=\"blank level0\" >&nbsp;</th>\n",
              "      <th id=\"T_c5f88_level0_col0\" class=\"col_heading level0 col0\" >MAE</th>\n",
              "      <th id=\"T_c5f88_level0_col1\" class=\"col_heading level0 col1\" >MSE</th>\n",
              "      <th id=\"T_c5f88_level0_col2\" class=\"col_heading level0 col2\" >RMSE</th>\n",
              "      <th id=\"T_c5f88_level0_col3\" class=\"col_heading level0 col3\" >R2</th>\n",
              "      <th id=\"T_c5f88_level0_col4\" class=\"col_heading level0 col4\" >RMSLE</th>\n",
              "      <th id=\"T_c5f88_level0_col5\" class=\"col_heading level0 col5\" >MAPE</th>\n",
              "    </tr>\n",
              "    <tr>\n",
              "      <th class=\"index_name level0\" >Fold</th>\n",
              "      <th class=\"blank col0\" >&nbsp;</th>\n",
              "      <th class=\"blank col1\" >&nbsp;</th>\n",
              "      <th class=\"blank col2\" >&nbsp;</th>\n",
              "      <th class=\"blank col3\" >&nbsp;</th>\n",
              "      <th class=\"blank col4\" >&nbsp;</th>\n",
              "      <th class=\"blank col5\" >&nbsp;</th>\n",
              "    </tr>\n",
              "  </thead>\n",
              "  <tbody>\n",
              "    <tr>\n",
              "      <th id=\"T_c5f88_level0_row0\" class=\"row_heading level0 row0\" >0</th>\n",
              "      <td id=\"T_c5f88_row0_col0\" class=\"data row0 col0\" >56.4077</td>\n",
              "      <td id=\"T_c5f88_row0_col1\" class=\"data row0 col1\" >20362.2881</td>\n",
              "      <td id=\"T_c5f88_row0_col2\" class=\"data row0 col2\" >142.6965</td>\n",
              "      <td id=\"T_c5f88_row0_col3\" class=\"data row0 col3\" >0.9245</td>\n",
              "      <td id=\"T_c5f88_row0_col4\" class=\"data row0 col4\" >0.4313</td>\n",
              "      <td id=\"T_c5f88_row0_col5\" class=\"data row0 col5\" >1.3692</td>\n",
              "    </tr>\n",
              "    <tr>\n",
              "      <th id=\"T_c5f88_level0_row1\" class=\"row_heading level0 row1\" >1</th>\n",
              "      <td id=\"T_c5f88_row1_col0\" class=\"data row1 col0\" >56.5372</td>\n",
              "      <td id=\"T_c5f88_row1_col1\" class=\"data row1 col1\" >20730.5136</td>\n",
              "      <td id=\"T_c5f88_row1_col2\" class=\"data row1 col2\" >143.9809</td>\n",
              "      <td id=\"T_c5f88_row1_col3\" class=\"data row1 col3\" >0.9236</td>\n",
              "      <td id=\"T_c5f88_row1_col4\" class=\"data row1 col4\" >0.4350</td>\n",
              "      <td id=\"T_c5f88_row1_col5\" class=\"data row1 col5\" >1.4322</td>\n",
              "    </tr>\n",
              "    <tr>\n",
              "      <th id=\"T_c5f88_level0_row2\" class=\"row_heading level0 row2\" >2</th>\n",
              "      <td id=\"T_c5f88_row2_col0\" class=\"data row2 col0\" >55.7685</td>\n",
              "      <td id=\"T_c5f88_row2_col1\" class=\"data row2 col1\" >20581.8284</td>\n",
              "      <td id=\"T_c5f88_row2_col2\" class=\"data row2 col2\" >143.4637</td>\n",
              "      <td id=\"T_c5f88_row2_col3\" class=\"data row2 col3\" >0.9237</td>\n",
              "      <td id=\"T_c5f88_row2_col4\" class=\"data row2 col4\" >0.4321</td>\n",
              "      <td id=\"T_c5f88_row2_col5\" class=\"data row2 col5\" >1.3648</td>\n",
              "    </tr>\n",
              "    <tr>\n",
              "      <th id=\"T_c5f88_level0_row3\" class=\"row_heading level0 row3\" >3</th>\n",
              "      <td id=\"T_c5f88_row3_col0\" class=\"data row3 col0\" >55.8138</td>\n",
              "      <td id=\"T_c5f88_row3_col1\" class=\"data row3 col1\" >20696.0610</td>\n",
              "      <td id=\"T_c5f88_row3_col2\" class=\"data row3 col2\" >143.8613</td>\n",
              "      <td id=\"T_c5f88_row3_col3\" class=\"data row3 col3\" >0.9241</td>\n",
              "      <td id=\"T_c5f88_row3_col4\" class=\"data row3 col4\" >0.4442</td>\n",
              "      <td id=\"T_c5f88_row3_col5\" class=\"data row3 col5\" >1.5046</td>\n",
              "    </tr>\n",
              "    <tr>\n",
              "      <th id=\"T_c5f88_level0_row4\" class=\"row_heading level0 row4\" >4</th>\n",
              "      <td id=\"T_c5f88_row4_col0\" class=\"data row4 col0\" >55.9936</td>\n",
              "      <td id=\"T_c5f88_row4_col1\" class=\"data row4 col1\" >21250.5919</td>\n",
              "      <td id=\"T_c5f88_row4_col2\" class=\"data row4 col2\" >145.7758</td>\n",
              "      <td id=\"T_c5f88_row4_col3\" class=\"data row4 col3\" >0.9217</td>\n",
              "      <td id=\"T_c5f88_row4_col4\" class=\"data row4 col4\" >0.4527</td>\n",
              "      <td id=\"T_c5f88_row4_col5\" class=\"data row4 col5\" >1.6513</td>\n",
              "    </tr>\n",
              "    <tr>\n",
              "      <th id=\"T_c5f88_level0_row5\" class=\"row_heading level0 row5\" >Mean</th>\n",
              "      <td id=\"T_c5f88_row5_col0\" class=\"data row5 col0\" >56.1041</td>\n",
              "      <td id=\"T_c5f88_row5_col1\" class=\"data row5 col1\" >20724.2566</td>\n",
              "      <td id=\"T_c5f88_row5_col2\" class=\"data row5 col2\" >143.9556</td>\n",
              "      <td id=\"T_c5f88_row5_col3\" class=\"data row5 col3\" >0.9235</td>\n",
              "      <td id=\"T_c5f88_row5_col4\" class=\"data row5 col4\" >0.4390</td>\n",
              "      <td id=\"T_c5f88_row5_col5\" class=\"data row5 col5\" >1.4644</td>\n",
              "    </tr>\n",
              "    <tr>\n",
              "      <th id=\"T_c5f88_level0_row6\" class=\"row_heading level0 row6\" >Std</th>\n",
              "      <td id=\"T_c5f88_row6_col0\" class=\"data row6 col0\" >0.3127</td>\n",
              "      <td id=\"T_c5f88_row6_col1\" class=\"data row6 col1\" >292.9744</td>\n",
              "      <td id=\"T_c5f88_row6_col2\" class=\"data row6 col2\" >1.0149</td>\n",
              "      <td id=\"T_c5f88_row6_col3\" class=\"data row6 col3\" >0.0010</td>\n",
              "      <td id=\"T_c5f88_row6_col4\" class=\"data row6 col4\" >0.0082</td>\n",
              "      <td id=\"T_c5f88_row6_col5\" class=\"data row6 col5\" >0.1064</td>\n",
              "    </tr>\n",
              "  </tbody>\n",
              "</table>\n"
            ]
          },
          "metadata": {}
        },
        {
          "output_type": "display_data",
          "data": {
            "text/plain": [
              "Processing:   0%|          | 0/7 [00:00<?, ?it/s]"
            ],
            "application/vnd.jupyter.widget-view+json": {
              "version_major": 2,
              "version_minor": 0,
              "model_id": "55d8b59c94e342b7a5aef5bfc73afa60"
            }
          },
          "metadata": {
            "application/vnd.jupyter.widget-view+json": {
              "colab": {
                "custom_widget_manager": {
                  "url": "https://ssl.gstatic.com/colaboratory-static/widgets/colab-cdn-widget-manager/b3e629b1971e1542/manager.min.js"
                }
              }
            }
          }
        },
        {
          "output_type": "display_data",
          "data": {
            "text/plain": [
              "<IPython.core.display.HTML object>"
            ],
            "text/html": []
          },
          "metadata": {}
        },
        {
          "output_type": "stream",
          "name": "stdout",
          "text": [
            "Fitting 5 folds for each of 10 candidates, totalling 50 fits\n"
          ]
        },
        {
          "output_type": "display_data",
          "data": {
            "text/plain": [
              "<IPython.core.display.HTML object>"
            ],
            "text/html": []
          },
          "metadata": {}
        },
        {
          "output_type": "display_data",
          "data": {
            "text/plain": [
              "<pandas.io.formats.style.Styler at 0x7f10a1b2bd90>"
            ],
            "text/html": [
              "<style type=\"text/css\">\n",
              "</style>\n",
              "<table id=\"T_18891\" class=\"dataframe\">\n",
              "  <thead>\n",
              "    <tr>\n",
              "      <th class=\"blank level0\" >&nbsp;</th>\n",
              "      <th id=\"T_18891_level0_col0\" class=\"col_heading level0 col0\" >Model</th>\n",
              "      <th id=\"T_18891_level0_col1\" class=\"col_heading level0 col1\" >MAE</th>\n",
              "      <th id=\"T_18891_level0_col2\" class=\"col_heading level0 col2\" >MSE</th>\n",
              "      <th id=\"T_18891_level0_col3\" class=\"col_heading level0 col3\" >RMSE</th>\n",
              "      <th id=\"T_18891_level0_col4\" class=\"col_heading level0 col4\" >R2</th>\n",
              "      <th id=\"T_18891_level0_col5\" class=\"col_heading level0 col5\" >RMSLE</th>\n",
              "      <th id=\"T_18891_level0_col6\" class=\"col_heading level0 col6\" >MAPE</th>\n",
              "    </tr>\n",
              "  </thead>\n",
              "  <tbody>\n",
              "    <tr>\n",
              "      <th id=\"T_18891_level0_row0\" class=\"row_heading level0 row0\" >0</th>\n",
              "      <td id=\"T_18891_row0_col0\" class=\"data row0 col0\" >Light Gradient Boosting Machine</td>\n",
              "      <td id=\"T_18891_row0_col1\" class=\"data row0 col1\" >53.2892</td>\n",
              "      <td id=\"T_18891_row0_col2\" class=\"data row0 col2\" >19337.3189</td>\n",
              "      <td id=\"T_18891_row0_col3\" class=\"data row0 col3\" >139.0587</td>\n",
              "      <td id=\"T_18891_row0_col4\" class=\"data row0 col4\" >0.9288</td>\n",
              "      <td id=\"T_18891_row0_col5\" class=\"data row0 col5\" >0.4395</td>\n",
              "      <td id=\"T_18891_row0_col6\" class=\"data row0 col6\" >1.4749</td>\n",
              "    </tr>\n",
              "  </tbody>\n",
              "</table>\n"
            ]
          },
          "metadata": {}
        },
        {
          "output_type": "execute_result",
          "data": {
            "text/plain": [
              "        Month  Day_of_Month  Estimated_Departure_Time  Origin_Airport_ID  \\\n",
              "698980     10            18                    1144.0              14122   \n",
              "52611       2            20                    1825.0              14831   \n",
              "420625      9            11                     515.0              13244   \n",
              "869317      2            11                    2135.0              12478   \n",
              "886531     12            23                     800.0              12278   \n",
              "...       ...           ...                       ...                ...   \n",
              "167863      6            14                    2159.0              11618   \n",
              "524978      6            28                    1315.0              10800   \n",
              "304361      2             7                     600.0              11259   \n",
              "336134      8            18                     700.0              10821   \n",
              "438361     11            22                    2005.0              10821   \n",
              "\n",
              "        Destination_Airport_ID  Distance  Tail_Number  Estimated_Arrival_Time  \\\n",
              "698980                   13930     413.0         4672                  1230.0   \n",
              "52611                    10423    1476.0          672                  2355.0   \n",
              "420625                   12191     484.0         5725                   650.0   \n",
              "869317                   12892    2475.0         5890                   102.0   \n",
              "886531                   11298     328.0         3963                   934.0   \n",
              "...                        ...       ...          ...                     ...   \n",
              "167863                   10434      93.0          340                  2314.0   \n",
              "524978                   11292     850.0         4267                  1635.0   \n",
              "304361                   15016     546.0         4264                   740.0   \n",
              "336134                   14107    1999.0         2613                   910.0   \n",
              "438361                   15304     842.0         2247                  2230.0   \n",
              "\n",
              "        prediction_label  \n",
              "698980       1231.260747  \n",
              "52611        2011.093436  \n",
              "420625        704.206043  \n",
              "869317         54.144897  \n",
              "886531        940.977837  \n",
              "...                  ...  \n",
              "167863       2489.245414  \n",
              "524978       1664.922593  \n",
              "304361        746.282111  \n",
              "336134        904.415598  \n",
              "438361       2251.132607  \n",
              "\n",
              "[158726 rows x 9 columns]"
            ],
            "text/html": [
              "\n",
              "  <div id=\"df-e45363bb-0eea-4d63-b7be-600a1f4cf374\">\n",
              "    <div class=\"colab-df-container\">\n",
              "      <div>\n",
              "<style scoped>\n",
              "    .dataframe tbody tr th:only-of-type {\n",
              "        vertical-align: middle;\n",
              "    }\n",
              "\n",
              "    .dataframe tbody tr th {\n",
              "        vertical-align: top;\n",
              "    }\n",
              "\n",
              "    .dataframe thead th {\n",
              "        text-align: right;\n",
              "    }\n",
              "</style>\n",
              "<table border=\"1\" class=\"dataframe\">\n",
              "  <thead>\n",
              "    <tr style=\"text-align: right;\">\n",
              "      <th></th>\n",
              "      <th>Month</th>\n",
              "      <th>Day_of_Month</th>\n",
              "      <th>Estimated_Departure_Time</th>\n",
              "      <th>Origin_Airport_ID</th>\n",
              "      <th>Destination_Airport_ID</th>\n",
              "      <th>Distance</th>\n",
              "      <th>Tail_Number</th>\n",
              "      <th>Estimated_Arrival_Time</th>\n",
              "      <th>prediction_label</th>\n",
              "    </tr>\n",
              "  </thead>\n",
              "  <tbody>\n",
              "    <tr>\n",
              "      <th>698980</th>\n",
              "      <td>10</td>\n",
              "      <td>18</td>\n",
              "      <td>1144.0</td>\n",
              "      <td>14122</td>\n",
              "      <td>13930</td>\n",
              "      <td>413.0</td>\n",
              "      <td>4672</td>\n",
              "      <td>1230.0</td>\n",
              "      <td>1231.260747</td>\n",
              "    </tr>\n",
              "    <tr>\n",
              "      <th>52611</th>\n",
              "      <td>2</td>\n",
              "      <td>20</td>\n",
              "      <td>1825.0</td>\n",
              "      <td>14831</td>\n",
              "      <td>10423</td>\n",
              "      <td>1476.0</td>\n",
              "      <td>672</td>\n",
              "      <td>2355.0</td>\n",
              "      <td>2011.093436</td>\n",
              "    </tr>\n",
              "    <tr>\n",
              "      <th>420625</th>\n",
              "      <td>9</td>\n",
              "      <td>11</td>\n",
              "      <td>515.0</td>\n",
              "      <td>13244</td>\n",
              "      <td>12191</td>\n",
              "      <td>484.0</td>\n",
              "      <td>5725</td>\n",
              "      <td>650.0</td>\n",
              "      <td>704.206043</td>\n",
              "    </tr>\n",
              "    <tr>\n",
              "      <th>869317</th>\n",
              "      <td>2</td>\n",
              "      <td>11</td>\n",
              "      <td>2135.0</td>\n",
              "      <td>12478</td>\n",
              "      <td>12892</td>\n",
              "      <td>2475.0</td>\n",
              "      <td>5890</td>\n",
              "      <td>102.0</td>\n",
              "      <td>54.144897</td>\n",
              "    </tr>\n",
              "    <tr>\n",
              "      <th>886531</th>\n",
              "      <td>12</td>\n",
              "      <td>23</td>\n",
              "      <td>800.0</td>\n",
              "      <td>12278</td>\n",
              "      <td>11298</td>\n",
              "      <td>328.0</td>\n",
              "      <td>3963</td>\n",
              "      <td>934.0</td>\n",
              "      <td>940.977837</td>\n",
              "    </tr>\n",
              "    <tr>\n",
              "      <th>...</th>\n",
              "      <td>...</td>\n",
              "      <td>...</td>\n",
              "      <td>...</td>\n",
              "      <td>...</td>\n",
              "      <td>...</td>\n",
              "      <td>...</td>\n",
              "      <td>...</td>\n",
              "      <td>...</td>\n",
              "      <td>...</td>\n",
              "    </tr>\n",
              "    <tr>\n",
              "      <th>167863</th>\n",
              "      <td>6</td>\n",
              "      <td>14</td>\n",
              "      <td>2159.0</td>\n",
              "      <td>11618</td>\n",
              "      <td>10434</td>\n",
              "      <td>93.0</td>\n",
              "      <td>340</td>\n",
              "      <td>2314.0</td>\n",
              "      <td>2489.245414</td>\n",
              "    </tr>\n",
              "    <tr>\n",
              "      <th>524978</th>\n",
              "      <td>6</td>\n",
              "      <td>28</td>\n",
              "      <td>1315.0</td>\n",
              "      <td>10800</td>\n",
              "      <td>11292</td>\n",
              "      <td>850.0</td>\n",
              "      <td>4267</td>\n",
              "      <td>1635.0</td>\n",
              "      <td>1664.922593</td>\n",
              "    </tr>\n",
              "    <tr>\n",
              "      <th>304361</th>\n",
              "      <td>2</td>\n",
              "      <td>7</td>\n",
              "      <td>600.0</td>\n",
              "      <td>11259</td>\n",
              "      <td>15016</td>\n",
              "      <td>546.0</td>\n",
              "      <td>4264</td>\n",
              "      <td>740.0</td>\n",
              "      <td>746.282111</td>\n",
              "    </tr>\n",
              "    <tr>\n",
              "      <th>336134</th>\n",
              "      <td>8</td>\n",
              "      <td>18</td>\n",
              "      <td>700.0</td>\n",
              "      <td>10821</td>\n",
              "      <td>14107</td>\n",
              "      <td>1999.0</td>\n",
              "      <td>2613</td>\n",
              "      <td>910.0</td>\n",
              "      <td>904.415598</td>\n",
              "    </tr>\n",
              "    <tr>\n",
              "      <th>438361</th>\n",
              "      <td>11</td>\n",
              "      <td>22</td>\n",
              "      <td>2005.0</td>\n",
              "      <td>10821</td>\n",
              "      <td>15304</td>\n",
              "      <td>842.0</td>\n",
              "      <td>2247</td>\n",
              "      <td>2230.0</td>\n",
              "      <td>2251.132607</td>\n",
              "    </tr>\n",
              "  </tbody>\n",
              "</table>\n",
              "<p>158726 rows × 9 columns</p>\n",
              "</div>\n",
              "      <button class=\"colab-df-convert\" onclick=\"convertToInteractive('df-e45363bb-0eea-4d63-b7be-600a1f4cf374')\"\n",
              "              title=\"Convert this dataframe to an interactive table.\"\n",
              "              style=\"display:none;\">\n",
              "        \n",
              "  <svg xmlns=\"http://www.w3.org/2000/svg\" height=\"24px\"viewBox=\"0 0 24 24\"\n",
              "       width=\"24px\">\n",
              "    <path d=\"M0 0h24v24H0V0z\" fill=\"none\"/>\n",
              "    <path d=\"M18.56 5.44l.94 2.06.94-2.06 2.06-.94-2.06-.94-.94-2.06-.94 2.06-2.06.94zm-11 1L8.5 8.5l.94-2.06 2.06-.94-2.06-.94L8.5 2.5l-.94 2.06-2.06.94zm10 10l.94 2.06.94-2.06 2.06-.94-2.06-.94-.94-2.06-.94 2.06-2.06.94z\"/><path d=\"M17.41 7.96l-1.37-1.37c-.4-.4-.92-.59-1.43-.59-.52 0-1.04.2-1.43.59L10.3 9.45l-7.72 7.72c-.78.78-.78 2.05 0 2.83L4 21.41c.39.39.9.59 1.41.59.51 0 1.02-.2 1.41-.59l7.78-7.78 2.81-2.81c.8-.78.8-2.07 0-2.86zM5.41 20L4 18.59l7.72-7.72 1.47 1.35L5.41 20z\"/>\n",
              "  </svg>\n",
              "      </button>\n",
              "      \n",
              "  <style>\n",
              "    .colab-df-container {\n",
              "      display:flex;\n",
              "      flex-wrap:wrap;\n",
              "      gap: 12px;\n",
              "    }\n",
              "\n",
              "    .colab-df-convert {\n",
              "      background-color: #E8F0FE;\n",
              "      border: none;\n",
              "      border-radius: 50%;\n",
              "      cursor: pointer;\n",
              "      display: none;\n",
              "      fill: #1967D2;\n",
              "      height: 32px;\n",
              "      padding: 0 0 0 0;\n",
              "      width: 32px;\n",
              "    }\n",
              "\n",
              "    .colab-df-convert:hover {\n",
              "      background-color: #E2EBFA;\n",
              "      box-shadow: 0px 1px 2px rgba(60, 64, 67, 0.3), 0px 1px 3px 1px rgba(60, 64, 67, 0.15);\n",
              "      fill: #174EA6;\n",
              "    }\n",
              "\n",
              "    [theme=dark] .colab-df-convert {\n",
              "      background-color: #3B4455;\n",
              "      fill: #D2E3FC;\n",
              "    }\n",
              "\n",
              "    [theme=dark] .colab-df-convert:hover {\n",
              "      background-color: #434B5C;\n",
              "      box-shadow: 0px 1px 3px 1px rgba(0, 0, 0, 0.15);\n",
              "      filter: drop-shadow(0px 1px 2px rgba(0, 0, 0, 0.3));\n",
              "      fill: #FFFFFF;\n",
              "    }\n",
              "  </style>\n",
              "\n",
              "      <script>\n",
              "        const buttonEl =\n",
              "          document.querySelector('#df-e45363bb-0eea-4d63-b7be-600a1f4cf374 button.colab-df-convert');\n",
              "        buttonEl.style.display =\n",
              "          google.colab.kernel.accessAllowed ? 'block' : 'none';\n",
              "\n",
              "        async function convertToInteractive(key) {\n",
              "          const element = document.querySelector('#df-e45363bb-0eea-4d63-b7be-600a1f4cf374');\n",
              "          const dataTable =\n",
              "            await google.colab.kernel.invokeFunction('convertToInteractive',\n",
              "                                                     [key], {});\n",
              "          if (!dataTable) return;\n",
              "\n",
              "          const docLinkHtml = 'Like what you see? Visit the ' +\n",
              "            '<a target=\"_blank\" href=https://colab.research.google.com/notebooks/data_table.ipynb>data table notebook</a>'\n",
              "            + ' to learn more about interactive tables.';\n",
              "          element.innerHTML = '';\n",
              "          dataTable['output_type'] = 'display_data';\n",
              "          await google.colab.output.renderOutput(dataTable, element);\n",
              "          const docLink = document.createElement('div');\n",
              "          docLink.innerHTML = docLinkHtml;\n",
              "          element.appendChild(docLink);\n",
              "        }\n",
              "      </script>\n",
              "    </div>\n",
              "  </div>\n",
              "  "
            ]
          },
          "metadata": {},
          "execution_count": 29
        }
      ]
    },
    {
      "cell_type": "code",
      "source": [
        "tuned_lgbm"
      ],
      "metadata": {
        "colab": {
          "base_uri": "https://localhost:8080/",
          "height": 126
        },
        "id": "ZwpbW3-EDmnI",
        "outputId": "b75c75b8-0502-46a7-e714-8956b1b6e8bc"
      },
      "execution_count": null,
      "outputs": [
        {
          "output_type": "execute_result",
          "data": {
            "text/plain": [
              "LGBMRegressor(bagging_fraction=0.8, bagging_freq=7, feature_fraction=0.6,\n",
              "              learning_rate=0.4, min_child_samples=31, min_split_gain=0.4,\n",
              "              n_estimators=190, num_leaves=100, random_state=2163,\n",
              "              reg_alpha=1e-07, reg_lambda=4)"
            ],
            "text/html": [
              "<style>#sk-container-id-1 {color: black;background-color: white;}#sk-container-id-1 pre{padding: 0;}#sk-container-id-1 div.sk-toggleable {background-color: white;}#sk-container-id-1 label.sk-toggleable__label {cursor: pointer;display: block;width: 100%;margin-bottom: 0;padding: 0.3em;box-sizing: border-box;text-align: center;}#sk-container-id-1 label.sk-toggleable__label-arrow:before {content: \"▸\";float: left;margin-right: 0.25em;color: #696969;}#sk-container-id-1 label.sk-toggleable__label-arrow:hover:before {color: black;}#sk-container-id-1 div.sk-estimator:hover label.sk-toggleable__label-arrow:before {color: black;}#sk-container-id-1 div.sk-toggleable__content {max-height: 0;max-width: 0;overflow: hidden;text-align: left;background-color: #f0f8ff;}#sk-container-id-1 div.sk-toggleable__content pre {margin: 0.2em;color: black;border-radius: 0.25em;background-color: #f0f8ff;}#sk-container-id-1 input.sk-toggleable__control:checked~div.sk-toggleable__content {max-height: 200px;max-width: 100%;overflow: auto;}#sk-container-id-1 input.sk-toggleable__control:checked~label.sk-toggleable__label-arrow:before {content: \"▾\";}#sk-container-id-1 div.sk-estimator input.sk-toggleable__control:checked~label.sk-toggleable__label {background-color: #d4ebff;}#sk-container-id-1 div.sk-label input.sk-toggleable__control:checked~label.sk-toggleable__label {background-color: #d4ebff;}#sk-container-id-1 input.sk-hidden--visually {border: 0;clip: rect(1px 1px 1px 1px);clip: rect(1px, 1px, 1px, 1px);height: 1px;margin: -1px;overflow: hidden;padding: 0;position: absolute;width: 1px;}#sk-container-id-1 div.sk-estimator {font-family: monospace;background-color: #f0f8ff;border: 1px dotted black;border-radius: 0.25em;box-sizing: border-box;margin-bottom: 0.5em;}#sk-container-id-1 div.sk-estimator:hover {background-color: #d4ebff;}#sk-container-id-1 div.sk-parallel-item::after {content: \"\";width: 100%;border-bottom: 1px solid gray;flex-grow: 1;}#sk-container-id-1 div.sk-label:hover label.sk-toggleable__label {background-color: #d4ebff;}#sk-container-id-1 div.sk-serial::before {content: \"\";position: absolute;border-left: 1px solid gray;box-sizing: border-box;top: 0;bottom: 0;left: 50%;z-index: 0;}#sk-container-id-1 div.sk-serial {display: flex;flex-direction: column;align-items: center;background-color: white;padding-right: 0.2em;padding-left: 0.2em;position: relative;}#sk-container-id-1 div.sk-item {position: relative;z-index: 1;}#sk-container-id-1 div.sk-parallel {display: flex;align-items: stretch;justify-content: center;background-color: white;position: relative;}#sk-container-id-1 div.sk-item::before, #sk-container-id-1 div.sk-parallel-item::before {content: \"\";position: absolute;border-left: 1px solid gray;box-sizing: border-box;top: 0;bottom: 0;left: 50%;z-index: -1;}#sk-container-id-1 div.sk-parallel-item {display: flex;flex-direction: column;z-index: 1;position: relative;background-color: white;}#sk-container-id-1 div.sk-parallel-item:first-child::after {align-self: flex-end;width: 50%;}#sk-container-id-1 div.sk-parallel-item:last-child::after {align-self: flex-start;width: 50%;}#sk-container-id-1 div.sk-parallel-item:only-child::after {width: 0;}#sk-container-id-1 div.sk-dashed-wrapped {border: 1px dashed gray;margin: 0 0.4em 0.5em 0.4em;box-sizing: border-box;padding-bottom: 0.4em;background-color: white;}#sk-container-id-1 div.sk-label label {font-family: monospace;font-weight: bold;display: inline-block;line-height: 1.2em;}#sk-container-id-1 div.sk-label-container {text-align: center;}#sk-container-id-1 div.sk-container {/* jupyter's `normalize.less` sets `[hidden] { display: none; }` but bootstrap.min.css set `[hidden] { display: none !important; }` so we also need the `!important` here to be able to override the default hidden behavior on the sphinx rendered scikit-learn.org. See: https://github.com/scikit-learn/scikit-learn/issues/21755 */display: inline-block !important;position: relative;}#sk-container-id-1 div.sk-text-repr-fallback {display: none;}</style><div id=\"sk-container-id-1\" class=\"sk-top-container\"><div class=\"sk-text-repr-fallback\"><pre>LGBMRegressor(bagging_fraction=0.8, bagging_freq=7, feature_fraction=0.6,\n",
              "              learning_rate=0.4, min_child_samples=31, min_split_gain=0.4,\n",
              "              n_estimators=190, num_leaves=100, random_state=2163,\n",
              "              reg_alpha=1e-07, reg_lambda=4)</pre><b>In a Jupyter environment, please rerun this cell to show the HTML representation or trust the notebook. <br />On GitHub, the HTML representation is unable to render, please try loading this page with nbviewer.org.</b></div><div class=\"sk-container\" hidden><div class=\"sk-item\"><div class=\"sk-estimator sk-toggleable\"><input class=\"sk-toggleable__control sk-hidden--visually\" id=\"sk-estimator-id-1\" type=\"checkbox\" checked><label for=\"sk-estimator-id-1\" class=\"sk-toggleable__label sk-toggleable__label-arrow\">LGBMRegressor</label><div class=\"sk-toggleable__content\"><pre>LGBMRegressor(bagging_fraction=0.8, bagging_freq=7, feature_fraction=0.6,\n",
              "              learning_rate=0.4, min_child_samples=31, min_split_gain=0.4,\n",
              "              n_estimators=190, num_leaves=100, random_state=2163,\n",
              "              reg_alpha=1e-07, reg_lambda=4)</pre></div></div></div></div></div>"
            ]
          },
          "metadata": {},
          "execution_count": 30
        }
      ]
    },
    {
      "cell_type": "code",
      "source": [
        "final_lgbm = finalize_model(estimator=tuned_lgbm)\n",
        "save_model(model=final_lgbm, model_name='arrival_lgbm',verbose=False)"
      ],
      "metadata": {
        "colab": {
          "base_uri": "https://localhost:8080/"
        },
        "id": "g3RRRRL7BI9n",
        "outputId": "f9f65890-30ff-4756-9c84-2dba8356ff10"
      },
      "execution_count": null,
      "outputs": [
        {
          "output_type": "execute_result",
          "data": {
            "text/plain": [
              "(Pipeline(memory=FastMemory(location=/tmp/joblib),\n",
              "          steps=[('numerical_imputer',\n",
              "                  TransformerWrapper(include=['Month', 'Day_of_Month',\n",
              "                                              'Estimated_Departure_Time',\n",
              "                                              'Origin_Airport_ID',\n",
              "                                              'Destination_Airport_ID',\n",
              "                                              'Distance', 'Tail_Number'],\n",
              "                                     transformer=SimpleImputer())),\n",
              "                 ('categorical_imputer',\n",
              "                  TransformerWrapper(include=[],\n",
              "                                     transformer=SimpleImputer(strategy='most_frequent'))),\n",
              "                 ('actual_estimator',\n",
              "                  LGBMRegressor(bagging_fraction=0.8, bagging_freq=7,\n",
              "                                feature_fraction=0.6, learning_rate=0.4,\n",
              "                                min_child_samples=31, min_split_gain=0.4,\n",
              "                                n_estimators=190, num_leaves=100,\n",
              "                                random_state=2163, reg_alpha=1e-07,\n",
              "                                reg_lambda=4))]),\n",
              " 'arrival_lgbm.pkl')"
            ]
          },
          "metadata": {},
          "execution_count": 31
        }
      ]
    },
    {
      "cell_type": "markdown",
      "source": [
        "**도착 시간 예측 모델**"
      ],
      "metadata": {
        "id": "XLHsICJoUcdf"
      }
    },
    {
      "cell_type": "code",
      "source": [
        "from pycaret.regression import *\n",
        "\n",
        "reg_test_2 = setup(data=X,\n",
        "                   target='Estimated_Departure_Time',\n",
        "                   train_size= 0.8,\n",
        "                   fold=5,\n",
        "                   use_gpu=True)\n",
        "\n",
        "lgbm2=create_model('lightgbm')\n"
      ],
      "metadata": {
        "id": "VeMjd90iJEcp",
        "colab": {
          "base_uri": "https://localhost:8080/",
          "height": 928,
          "referenced_widgets": [
            "e9b2ab315907408e8d36969d0e20a9f7",
            "39a204c3c68447bcbb9796aedc9d0e62",
            "29ce797089104c2d86cb72f45822c152",
            "f7f31555e8a54f529a2ab8b5c0bb6f77",
            "48fd60d7f6bc4b6688d5f6fca735e5e6",
            "84ff9391d6154548b3480dbad82d8071",
            "c98a6d96720e439b92e0d149af49d90e",
            "7dba093f61bc4e329dff8ffb5e314176",
            "670c2348272a43429f71681add76afdc",
            "abf831f936c94f12b3c62c46230554a6",
            "457dee8cde744c9289e68ed26b10c86c"
          ]
        },
        "outputId": "ef53ff8a-a188-4fb8-87d3-712789d45f15"
      },
      "execution_count": null,
      "outputs": [
        {
          "output_type": "display_data",
          "data": {
            "text/plain": [
              "<pandas.io.formats.style.Styler at 0x7f10873026a0>"
            ],
            "text/html": [
              "<style type=\"text/css\">\n",
              "#T_b30ed_row8_col1, #T_b30ed_row15_col1 {\n",
              "  background-color: lightgreen;\n",
              "}\n",
              "</style>\n",
              "<table id=\"T_b30ed\" class=\"dataframe\">\n",
              "  <thead>\n",
              "    <tr>\n",
              "      <th class=\"blank level0\" >&nbsp;</th>\n",
              "      <th id=\"T_b30ed_level0_col0\" class=\"col_heading level0 col0\" >Description</th>\n",
              "      <th id=\"T_b30ed_level0_col1\" class=\"col_heading level0 col1\" >Value</th>\n",
              "    </tr>\n",
              "  </thead>\n",
              "  <tbody>\n",
              "    <tr>\n",
              "      <th id=\"T_b30ed_level0_row0\" class=\"row_heading level0 row0\" >0</th>\n",
              "      <td id=\"T_b30ed_row0_col0\" class=\"data row0 col0\" >Session id</td>\n",
              "      <td id=\"T_b30ed_row0_col1\" class=\"data row0 col1\" >7601</td>\n",
              "    </tr>\n",
              "    <tr>\n",
              "      <th id=\"T_b30ed_level0_row1\" class=\"row_heading level0 row1\" >1</th>\n",
              "      <td id=\"T_b30ed_row1_col0\" class=\"data row1 col0\" >Target</td>\n",
              "      <td id=\"T_b30ed_row1_col1\" class=\"data row1 col1\" >Estimated_Departure_Time</td>\n",
              "    </tr>\n",
              "    <tr>\n",
              "      <th id=\"T_b30ed_level0_row2\" class=\"row_heading level0 row2\" >2</th>\n",
              "      <td id=\"T_b30ed_row2_col0\" class=\"data row2 col0\" >Target type</td>\n",
              "      <td id=\"T_b30ed_row2_col1\" class=\"data row2 col1\" >Regression</td>\n",
              "    </tr>\n",
              "    <tr>\n",
              "      <th id=\"T_b30ed_level0_row3\" class=\"row_heading level0 row3\" >3</th>\n",
              "      <td id=\"T_b30ed_row3_col0\" class=\"data row3 col0\" >Original data shape</td>\n",
              "      <td id=\"T_b30ed_row3_col1\" class=\"data row3 col1\" >(793629, 8)</td>\n",
              "    </tr>\n",
              "    <tr>\n",
              "      <th id=\"T_b30ed_level0_row4\" class=\"row_heading level0 row4\" >4</th>\n",
              "      <td id=\"T_b30ed_row4_col0\" class=\"data row4 col0\" >Transformed data shape</td>\n",
              "      <td id=\"T_b30ed_row4_col1\" class=\"data row4 col1\" >(793629, 8)</td>\n",
              "    </tr>\n",
              "    <tr>\n",
              "      <th id=\"T_b30ed_level0_row5\" class=\"row_heading level0 row5\" >5</th>\n",
              "      <td id=\"T_b30ed_row5_col0\" class=\"data row5 col0\" >Transformed train set shape</td>\n",
              "      <td id=\"T_b30ed_row5_col1\" class=\"data row5 col1\" >(634903, 8)</td>\n",
              "    </tr>\n",
              "    <tr>\n",
              "      <th id=\"T_b30ed_level0_row6\" class=\"row_heading level0 row6\" >6</th>\n",
              "      <td id=\"T_b30ed_row6_col0\" class=\"data row6 col0\" >Transformed test set shape</td>\n",
              "      <td id=\"T_b30ed_row6_col1\" class=\"data row6 col1\" >(158726, 8)</td>\n",
              "    </tr>\n",
              "    <tr>\n",
              "      <th id=\"T_b30ed_level0_row7\" class=\"row_heading level0 row7\" >7</th>\n",
              "      <td id=\"T_b30ed_row7_col0\" class=\"data row7 col0\" >Numeric features</td>\n",
              "      <td id=\"T_b30ed_row7_col1\" class=\"data row7 col1\" >7</td>\n",
              "    </tr>\n",
              "    <tr>\n",
              "      <th id=\"T_b30ed_level0_row8\" class=\"row_heading level0 row8\" >8</th>\n",
              "      <td id=\"T_b30ed_row8_col0\" class=\"data row8 col0\" >Preprocess</td>\n",
              "      <td id=\"T_b30ed_row8_col1\" class=\"data row8 col1\" >True</td>\n",
              "    </tr>\n",
              "    <tr>\n",
              "      <th id=\"T_b30ed_level0_row9\" class=\"row_heading level0 row9\" >9</th>\n",
              "      <td id=\"T_b30ed_row9_col0\" class=\"data row9 col0\" >Imputation type</td>\n",
              "      <td id=\"T_b30ed_row9_col1\" class=\"data row9 col1\" >simple</td>\n",
              "    </tr>\n",
              "    <tr>\n",
              "      <th id=\"T_b30ed_level0_row10\" class=\"row_heading level0 row10\" >10</th>\n",
              "      <td id=\"T_b30ed_row10_col0\" class=\"data row10 col0\" >Numeric imputation</td>\n",
              "      <td id=\"T_b30ed_row10_col1\" class=\"data row10 col1\" >mean</td>\n",
              "    </tr>\n",
              "    <tr>\n",
              "      <th id=\"T_b30ed_level0_row11\" class=\"row_heading level0 row11\" >11</th>\n",
              "      <td id=\"T_b30ed_row11_col0\" class=\"data row11 col0\" >Categorical imputation</td>\n",
              "      <td id=\"T_b30ed_row11_col1\" class=\"data row11 col1\" >mode</td>\n",
              "    </tr>\n",
              "    <tr>\n",
              "      <th id=\"T_b30ed_level0_row12\" class=\"row_heading level0 row12\" >12</th>\n",
              "      <td id=\"T_b30ed_row12_col0\" class=\"data row12 col0\" >Fold Generator</td>\n",
              "      <td id=\"T_b30ed_row12_col1\" class=\"data row12 col1\" >KFold</td>\n",
              "    </tr>\n",
              "    <tr>\n",
              "      <th id=\"T_b30ed_level0_row13\" class=\"row_heading level0 row13\" >13</th>\n",
              "      <td id=\"T_b30ed_row13_col0\" class=\"data row13 col0\" >Fold Number</td>\n",
              "      <td id=\"T_b30ed_row13_col1\" class=\"data row13 col1\" >5</td>\n",
              "    </tr>\n",
              "    <tr>\n",
              "      <th id=\"T_b30ed_level0_row14\" class=\"row_heading level0 row14\" >14</th>\n",
              "      <td id=\"T_b30ed_row14_col0\" class=\"data row14 col0\" >CPU Jobs</td>\n",
              "      <td id=\"T_b30ed_row14_col1\" class=\"data row14 col1\" >-1</td>\n",
              "    </tr>\n",
              "    <tr>\n",
              "      <th id=\"T_b30ed_level0_row15\" class=\"row_heading level0 row15\" >15</th>\n",
              "      <td id=\"T_b30ed_row15_col0\" class=\"data row15 col0\" >Use GPU</td>\n",
              "      <td id=\"T_b30ed_row15_col1\" class=\"data row15 col1\" >True</td>\n",
              "    </tr>\n",
              "    <tr>\n",
              "      <th id=\"T_b30ed_level0_row16\" class=\"row_heading level0 row16\" >16</th>\n",
              "      <td id=\"T_b30ed_row16_col0\" class=\"data row16 col0\" >Log Experiment</td>\n",
              "      <td id=\"T_b30ed_row16_col1\" class=\"data row16 col1\" >False</td>\n",
              "    </tr>\n",
              "    <tr>\n",
              "      <th id=\"T_b30ed_level0_row17\" class=\"row_heading level0 row17\" >17</th>\n",
              "      <td id=\"T_b30ed_row17_col0\" class=\"data row17 col0\" >Experiment Name</td>\n",
              "      <td id=\"T_b30ed_row17_col1\" class=\"data row17 col1\" >reg-default-name</td>\n",
              "    </tr>\n",
              "    <tr>\n",
              "      <th id=\"T_b30ed_level0_row18\" class=\"row_heading level0 row18\" >18</th>\n",
              "      <td id=\"T_b30ed_row18_col0\" class=\"data row18 col0\" >USI</td>\n",
              "      <td id=\"T_b30ed_row18_col1\" class=\"data row18 col1\" >6b8f</td>\n",
              "    </tr>\n",
              "  </tbody>\n",
              "</table>\n"
            ]
          },
          "metadata": {}
        },
        {
          "output_type": "display_data",
          "data": {
            "text/plain": [
              "<IPython.core.display.HTML object>"
            ],
            "text/html": []
          },
          "metadata": {}
        },
        {
          "output_type": "display_data",
          "data": {
            "text/plain": [
              "<pandas.io.formats.style.Styler at 0x7f109042eeb0>"
            ],
            "text/html": [
              "<style type=\"text/css\">\n",
              "#T_79f65_row5_col0, #T_79f65_row5_col1, #T_79f65_row5_col2, #T_79f65_row5_col3, #T_79f65_row5_col4, #T_79f65_row5_col5 {\n",
              "  background: yellow;\n",
              "}\n",
              "</style>\n",
              "<table id=\"T_79f65\" class=\"dataframe\">\n",
              "  <thead>\n",
              "    <tr>\n",
              "      <th class=\"blank level0\" >&nbsp;</th>\n",
              "      <th id=\"T_79f65_level0_col0\" class=\"col_heading level0 col0\" >MAE</th>\n",
              "      <th id=\"T_79f65_level0_col1\" class=\"col_heading level0 col1\" >MSE</th>\n",
              "      <th id=\"T_79f65_level0_col2\" class=\"col_heading level0 col2\" >RMSE</th>\n",
              "      <th id=\"T_79f65_level0_col3\" class=\"col_heading level0 col3\" >R2</th>\n",
              "      <th id=\"T_79f65_level0_col4\" class=\"col_heading level0 col4\" >RMSLE</th>\n",
              "      <th id=\"T_79f65_level0_col5\" class=\"col_heading level0 col5\" >MAPE</th>\n",
              "    </tr>\n",
              "    <tr>\n",
              "      <th class=\"index_name level0\" >Fold</th>\n",
              "      <th class=\"blank col0\" >&nbsp;</th>\n",
              "      <th class=\"blank col1\" >&nbsp;</th>\n",
              "      <th class=\"blank col2\" >&nbsp;</th>\n",
              "      <th class=\"blank col3\" >&nbsp;</th>\n",
              "      <th class=\"blank col4\" >&nbsp;</th>\n",
              "      <th class=\"blank col5\" >&nbsp;</th>\n",
              "    </tr>\n",
              "  </thead>\n",
              "  <tbody>\n",
              "    <tr>\n",
              "      <th id=\"T_79f65_level0_row0\" class=\"row_heading level0 row0\" >0</th>\n",
              "      <td id=\"T_79f65_row0_col0\" class=\"data row0 col0\" >42.0134</td>\n",
              "      <td id=\"T_79f65_row0_col1\" class=\"data row0 col1\" >5542.3793</td>\n",
              "      <td id=\"T_79f65_row0_col2\" class=\"data row0 col2\" >74.4472</td>\n",
              "      <td id=\"T_79f65_row0_col3\" class=\"data row0 col3\" >0.9769</td>\n",
              "      <td id=\"T_79f65_row0_col4\" class=\"data row0 col4\" >0.1496</td>\n",
              "      <td id=\"T_79f65_row0_col5\" class=\"data row0 col5\" >0.1378</td>\n",
              "    </tr>\n",
              "    <tr>\n",
              "      <th id=\"T_79f65_level0_row1\" class=\"row_heading level0 row1\" >1</th>\n",
              "      <td id=\"T_79f65_row1_col0\" class=\"data row1 col0\" >42.0419</td>\n",
              "      <td id=\"T_79f65_row1_col1\" class=\"data row1 col1\" >5230.9979</td>\n",
              "      <td id=\"T_79f65_row1_col2\" class=\"data row1 col2\" >72.3256</td>\n",
              "      <td id=\"T_79f65_row1_col3\" class=\"data row1 col3\" >0.9781</td>\n",
              "      <td id=\"T_79f65_row1_col4\" class=\"data row1 col4\" >0.1382</td>\n",
              "      <td id=\"T_79f65_row1_col5\" class=\"data row1 col5\" >0.1108</td>\n",
              "    </tr>\n",
              "    <tr>\n",
              "      <th id=\"T_79f65_level0_row2\" class=\"row_heading level0 row2\" >2</th>\n",
              "      <td id=\"T_79f65_row2_col0\" class=\"data row2 col0\" >41.7302</td>\n",
              "      <td id=\"T_79f65_row2_col1\" class=\"data row2 col1\" >5670.9836</td>\n",
              "      <td id=\"T_79f65_row2_col2\" class=\"data row2 col2\" >75.3059</td>\n",
              "      <td id=\"T_79f65_row2_col3\" class=\"data row2 col3\" >0.9764</td>\n",
              "      <td id=\"T_79f65_row2_col4\" class=\"data row2 col4\" >0.1501</td>\n",
              "      <td id=\"T_79f65_row2_col5\" class=\"data row2 col5\" >0.1136</td>\n",
              "    </tr>\n",
              "    <tr>\n",
              "      <th id=\"T_79f65_level0_row3\" class=\"row_heading level0 row3\" >3</th>\n",
              "      <td id=\"T_79f65_row3_col0\" class=\"data row3 col0\" >42.2476</td>\n",
              "      <td id=\"T_79f65_row3_col1\" class=\"data row3 col1\" >5624.1888</td>\n",
              "      <td id=\"T_79f65_row3_col2\" class=\"data row3 col2\" >74.9946</td>\n",
              "      <td id=\"T_79f65_row3_col3\" class=\"data row3 col3\" >0.9766</td>\n",
              "      <td id=\"T_79f65_row3_col4\" class=\"data row3 col4\" >0.1562</td>\n",
              "      <td id=\"T_79f65_row3_col5\" class=\"data row3 col5\" >0.1425</td>\n",
              "    </tr>\n",
              "    <tr>\n",
              "      <th id=\"T_79f65_level0_row4\" class=\"row_heading level0 row4\" >4</th>\n",
              "      <td id=\"T_79f65_row4_col0\" class=\"data row4 col0\" >42.2264</td>\n",
              "      <td id=\"T_79f65_row4_col1\" class=\"data row4 col1\" >5766.0639</td>\n",
              "      <td id=\"T_79f65_row4_col2\" class=\"data row4 col2\" >75.9346</td>\n",
              "      <td id=\"T_79f65_row4_col3\" class=\"data row4 col3\" >0.9760</td>\n",
              "      <td id=\"T_79f65_row4_col4\" class=\"data row4 col4\" >0.1478</td>\n",
              "      <td id=\"T_79f65_row4_col5\" class=\"data row4 col5\" >0.1292</td>\n",
              "    </tr>\n",
              "    <tr>\n",
              "      <th id=\"T_79f65_level0_row5\" class=\"row_heading level0 row5\" >Mean</th>\n",
              "      <td id=\"T_79f65_row5_col0\" class=\"data row5 col0\" >42.0519</td>\n",
              "      <td id=\"T_79f65_row5_col1\" class=\"data row5 col1\" >5566.9227</td>\n",
              "      <td id=\"T_79f65_row5_col2\" class=\"data row5 col2\" >74.6016</td>\n",
              "      <td id=\"T_79f65_row5_col3\" class=\"data row5 col3\" >0.9768</td>\n",
              "      <td id=\"T_79f65_row5_col4\" class=\"data row5 col4\" >0.1484</td>\n",
              "      <td id=\"T_79f65_row5_col5\" class=\"data row5 col5\" >0.1268</td>\n",
              "    </tr>\n",
              "    <tr>\n",
              "      <th id=\"T_79f65_level0_row6\" class=\"row_heading level0 row6\" >Std</th>\n",
              "      <td id=\"T_79f65_row6_col0\" class=\"data row6 col0\" >0.1865</td>\n",
              "      <td id=\"T_79f65_row6_col1\" class=\"data row6 col1\" >182.8733</td>\n",
              "      <td id=\"T_79f65_row6_col2\" class=\"data row6 col2\" >1.2354</td>\n",
              "      <td id=\"T_79f65_row6_col3\" class=\"data row6 col3\" >0.0007</td>\n",
              "      <td id=\"T_79f65_row6_col4\" class=\"data row6 col4\" >0.0058</td>\n",
              "      <td id=\"T_79f65_row6_col5\" class=\"data row6 col5\" >0.0127</td>\n",
              "    </tr>\n",
              "  </tbody>\n",
              "</table>\n"
            ]
          },
          "metadata": {}
        },
        {
          "output_type": "display_data",
          "data": {
            "text/plain": [
              "Processing:   0%|          | 0/4 [00:00<?, ?it/s]"
            ],
            "application/vnd.jupyter.widget-view+json": {
              "version_major": 2,
              "version_minor": 0,
              "model_id": "e9b2ab315907408e8d36969d0e20a9f7"
            }
          },
          "metadata": {
            "application/vnd.jupyter.widget-view+json": {
              "colab": {
                "custom_widget_manager": {
                  "url": "https://ssl.gstatic.com/colaboratory-static/widgets/colab-cdn-widget-manager/b3e629b1971e1542/manager.min.js"
                }
              }
            }
          }
        },
        {
          "output_type": "display_data",
          "data": {
            "text/plain": [
              "<IPython.core.display.HTML object>"
            ],
            "text/html": []
          },
          "metadata": {}
        }
      ]
    },
    {
      "cell_type": "code",
      "source": [
        "tuned_lgbm2 = tune_model(lgbm2,optimize='RMSE')\n",
        "predict_model(tuned_lgbm2)"
      ],
      "metadata": {
        "id": "uXeRydfTJUTu",
        "colab": {
          "base_uri": "https://localhost:8080/",
          "height": 808,
          "referenced_widgets": [
            "ca07149be23f4e40bdb6783d9993c445",
            "6e5a01bb826d4a858d88640ee0ccd5c8",
            "44bb3dd880f547b3b2c3d8b5dbd805f4",
            "e92a1c07767d4423b46407d7d32a1084",
            "ea570d8745da49ce81943c0a7dae2aa5",
            "1e219e8f84994e71a157565b64050890",
            "0bd57d35592a471cb7cf00f55cf46970",
            "c0f6d0a83b234b9980b0f5e0d1b05265",
            "c080d4b84b70427ab60cc6bf262f573a",
            "4197753a0128426695af557f91b3767b",
            "6723f462ef2f45b1bd4a3f2214e71757"
          ]
        },
        "outputId": "5168649e-d40f-4b9c-f3ce-93096a2f0bda"
      },
      "execution_count": null,
      "outputs": [
        {
          "output_type": "display_data",
          "data": {
            "text/plain": [
              "<IPython.core.display.HTML object>"
            ],
            "text/html": []
          },
          "metadata": {}
        },
        {
          "output_type": "display_data",
          "data": {
            "text/plain": [
              "<pandas.io.formats.style.Styler at 0x7f10dda83760>"
            ],
            "text/html": [
              "<style type=\"text/css\">\n",
              "#T_ce1c6_row5_col0, #T_ce1c6_row5_col1, #T_ce1c6_row5_col2, #T_ce1c6_row5_col3, #T_ce1c6_row5_col4, #T_ce1c6_row5_col5 {\n",
              "  background: yellow;\n",
              "}\n",
              "</style>\n",
              "<table id=\"T_ce1c6\" class=\"dataframe\">\n",
              "  <thead>\n",
              "    <tr>\n",
              "      <th class=\"blank level0\" >&nbsp;</th>\n",
              "      <th id=\"T_ce1c6_level0_col0\" class=\"col_heading level0 col0\" >MAE</th>\n",
              "      <th id=\"T_ce1c6_level0_col1\" class=\"col_heading level0 col1\" >MSE</th>\n",
              "      <th id=\"T_ce1c6_level0_col2\" class=\"col_heading level0 col2\" >RMSE</th>\n",
              "      <th id=\"T_ce1c6_level0_col3\" class=\"col_heading level0 col3\" >R2</th>\n",
              "      <th id=\"T_ce1c6_level0_col4\" class=\"col_heading level0 col4\" >RMSLE</th>\n",
              "      <th id=\"T_ce1c6_level0_col5\" class=\"col_heading level0 col5\" >MAPE</th>\n",
              "    </tr>\n",
              "    <tr>\n",
              "      <th class=\"index_name level0\" >Fold</th>\n",
              "      <th class=\"blank col0\" >&nbsp;</th>\n",
              "      <th class=\"blank col1\" >&nbsp;</th>\n",
              "      <th class=\"blank col2\" >&nbsp;</th>\n",
              "      <th class=\"blank col3\" >&nbsp;</th>\n",
              "      <th class=\"blank col4\" >&nbsp;</th>\n",
              "      <th class=\"blank col5\" >&nbsp;</th>\n",
              "    </tr>\n",
              "  </thead>\n",
              "  <tbody>\n",
              "    <tr>\n",
              "      <th id=\"T_ce1c6_level0_row0\" class=\"row_heading level0 row0\" >0</th>\n",
              "      <td id=\"T_ce1c6_row0_col0\" class=\"data row0 col0\" >41.0847</td>\n",
              "      <td id=\"T_ce1c6_row0_col1\" class=\"data row0 col1\" >5530.9242</td>\n",
              "      <td id=\"T_ce1c6_row0_col2\" class=\"data row0 col2\" >74.3702</td>\n",
              "      <td id=\"T_ce1c6_row0_col3\" class=\"data row0 col3\" >0.9769</td>\n",
              "      <td id=\"T_ce1c6_row0_col4\" class=\"data row0 col4\" >0.1497</td>\n",
              "      <td id=\"T_ce1c6_row0_col5\" class=\"data row0 col5\" >0.1383</td>\n",
              "    </tr>\n",
              "    <tr>\n",
              "      <th id=\"T_ce1c6_level0_row1\" class=\"row_heading level0 row1\" >1</th>\n",
              "      <td id=\"T_ce1c6_row1_col0\" class=\"data row1 col0\" >41.5162</td>\n",
              "      <td id=\"T_ce1c6_row1_col1\" class=\"data row1 col1\" >5358.9198</td>\n",
              "      <td id=\"T_ce1c6_row1_col2\" class=\"data row1 col2\" >73.2046</td>\n",
              "      <td id=\"T_ce1c6_row1_col3\" class=\"data row1 col3\" >0.9776</td>\n",
              "      <td id=\"T_ce1c6_row1_col4\" class=\"data row1 col4\" >0.1410</td>\n",
              "      <td id=\"T_ce1c6_row1_col5\" class=\"data row1 col5\" >0.1136</td>\n",
              "    </tr>\n",
              "    <tr>\n",
              "      <th id=\"T_ce1c6_level0_row2\" class=\"row_heading level0 row2\" >2</th>\n",
              "      <td id=\"T_ce1c6_row2_col0\" class=\"data row2 col0\" >41.3572</td>\n",
              "      <td id=\"T_ce1c6_row2_col1\" class=\"data row2 col1\" >5734.9398</td>\n",
              "      <td id=\"T_ce1c6_row2_col2\" class=\"data row2 col2\" >75.7294</td>\n",
              "      <td id=\"T_ce1c6_row2_col3\" class=\"data row2 col3\" >0.9761</td>\n",
              "      <td id=\"T_ce1c6_row2_col4\" class=\"data row2 col4\" >0.1521</td>\n",
              "      <td id=\"T_ce1c6_row2_col5\" class=\"data row2 col5\" >0.1138</td>\n",
              "    </tr>\n",
              "    <tr>\n",
              "      <th id=\"T_ce1c6_level0_row3\" class=\"row_heading level0 row3\" >3</th>\n",
              "      <td id=\"T_ce1c6_row3_col0\" class=\"data row3 col0\" >41.4694</td>\n",
              "      <td id=\"T_ce1c6_row3_col1\" class=\"data row3 col1\" >5495.2789</td>\n",
              "      <td id=\"T_ce1c6_row3_col2\" class=\"data row3 col2\" >74.1301</td>\n",
              "      <td id=\"T_ce1c6_row3_col3\" class=\"data row3 col3\" >0.9771</td>\n",
              "      <td id=\"T_ce1c6_row3_col4\" class=\"data row3 col4\" >0.1548</td>\n",
              "      <td id=\"T_ce1c6_row3_col5\" class=\"data row3 col5\" >0.1410</td>\n",
              "    </tr>\n",
              "    <tr>\n",
              "      <th id=\"T_ce1c6_level0_row4\" class=\"row_heading level0 row4\" >4</th>\n",
              "      <td id=\"T_ce1c6_row4_col0\" class=\"data row4 col0\" >41.2230</td>\n",
              "      <td id=\"T_ce1c6_row4_col1\" class=\"data row4 col1\" >5603.8272</td>\n",
              "      <td id=\"T_ce1c6_row4_col2\" class=\"data row4 col2\" >74.8587</td>\n",
              "      <td id=\"T_ce1c6_row4_col3\" class=\"data row4 col3\" >0.9767</td>\n",
              "      <td id=\"T_ce1c6_row4_col4\" class=\"data row4 col4\" >0.1455</td>\n",
              "      <td id=\"T_ce1c6_row4_col5\" class=\"data row4 col5\" >0.1287</td>\n",
              "    </tr>\n",
              "    <tr>\n",
              "      <th id=\"T_ce1c6_level0_row5\" class=\"row_heading level0 row5\" >Mean</th>\n",
              "      <td id=\"T_ce1c6_row5_col0\" class=\"data row5 col0\" >41.3301</td>\n",
              "      <td id=\"T_ce1c6_row5_col1\" class=\"data row5 col1\" >5544.7780</td>\n",
              "      <td id=\"T_ce1c6_row5_col2\" class=\"data row5 col2\" >74.4586</td>\n",
              "      <td id=\"T_ce1c6_row5_col3\" class=\"data row5 col3\" >0.9769</td>\n",
              "      <td id=\"T_ce1c6_row5_col4\" class=\"data row5 col4\" >0.1486</td>\n",
              "      <td id=\"T_ce1c6_row5_col5\" class=\"data row5 col5\" >0.1271</td>\n",
              "    </tr>\n",
              "    <tr>\n",
              "      <th id=\"T_ce1c6_level0_row6\" class=\"row_heading level0 row6\" >Std</th>\n",
              "      <td id=\"T_ce1c6_row6_col0\" class=\"data row6 col0\" >0.1590</td>\n",
              "      <td id=\"T_ce1c6_row6_col1\" class=\"data row6 col1\" >123.9626</td>\n",
              "      <td id=\"T_ce1c6_row6_col2\" class=\"data row6 col2\" >0.8322</td>\n",
              "      <td id=\"T_ce1c6_row6_col3\" class=\"data row6 col3\" >0.0005</td>\n",
              "      <td id=\"T_ce1c6_row6_col4\" class=\"data row6 col4\" >0.0049</td>\n",
              "      <td id=\"T_ce1c6_row6_col5\" class=\"data row6 col5\" >0.0117</td>\n",
              "    </tr>\n",
              "  </tbody>\n",
              "</table>\n"
            ]
          },
          "metadata": {}
        },
        {
          "output_type": "display_data",
          "data": {
            "text/plain": [
              "Processing:   0%|          | 0/7 [00:00<?, ?it/s]"
            ],
            "application/vnd.jupyter.widget-view+json": {
              "version_major": 2,
              "version_minor": 0,
              "model_id": "ca07149be23f4e40bdb6783d9993c445"
            }
          },
          "metadata": {
            "application/vnd.jupyter.widget-view+json": {
              "colab": {
                "custom_widget_manager": {
                  "url": "https://ssl.gstatic.com/colaboratory-static/widgets/colab-cdn-widget-manager/b3e629b1971e1542/manager.min.js"
                }
              }
            }
          }
        },
        {
          "output_type": "stream",
          "name": "stdout",
          "text": [
            "Fitting 5 folds for each of 10 candidates, totalling 50 fits\n"
          ]
        },
        {
          "output_type": "display_data",
          "data": {
            "text/plain": [
              "<IPython.core.display.HTML object>"
            ],
            "text/html": []
          },
          "metadata": {}
        },
        {
          "output_type": "display_data",
          "data": {
            "text/plain": [
              "<pandas.io.formats.style.Styler at 0x7f108cf6d640>"
            ],
            "text/html": [
              "<style type=\"text/css\">\n",
              "</style>\n",
              "<table id=\"T_5d738\" class=\"dataframe\">\n",
              "  <thead>\n",
              "    <tr>\n",
              "      <th class=\"blank level0\" >&nbsp;</th>\n",
              "      <th id=\"T_5d738_level0_col0\" class=\"col_heading level0 col0\" >Model</th>\n",
              "      <th id=\"T_5d738_level0_col1\" class=\"col_heading level0 col1\" >MAE</th>\n",
              "      <th id=\"T_5d738_level0_col2\" class=\"col_heading level0 col2\" >MSE</th>\n",
              "      <th id=\"T_5d738_level0_col3\" class=\"col_heading level0 col3\" >RMSE</th>\n",
              "      <th id=\"T_5d738_level0_col4\" class=\"col_heading level0 col4\" >R2</th>\n",
              "      <th id=\"T_5d738_level0_col5\" class=\"col_heading level0 col5\" >RMSLE</th>\n",
              "      <th id=\"T_5d738_level0_col6\" class=\"col_heading level0 col6\" >MAPE</th>\n",
              "    </tr>\n",
              "  </thead>\n",
              "  <tbody>\n",
              "    <tr>\n",
              "      <th id=\"T_5d738_level0_row0\" class=\"row_heading level0 row0\" >0</th>\n",
              "      <td id=\"T_5d738_row0_col0\" class=\"data row0 col0\" >Light Gradient Boosting Machine</td>\n",
              "      <td id=\"T_5d738_row0_col1\" class=\"data row0 col1\" >41.2570</td>\n",
              "      <td id=\"T_5d738_row0_col2\" class=\"data row0 col2\" >5508.4412</td>\n",
              "      <td id=\"T_5d738_row0_col3\" class=\"data row0 col3\" >74.2189</td>\n",
              "      <td id=\"T_5d738_row0_col4\" class=\"data row0 col4\" >0.9771</td>\n",
              "      <td id=\"T_5d738_row0_col5\" class=\"data row0 col5\" >0.1528</td>\n",
              "      <td id=\"T_5d738_row0_col6\" class=\"data row0 col6\" >0.1155</td>\n",
              "    </tr>\n",
              "  </tbody>\n",
              "</table>\n"
            ]
          },
          "metadata": {}
        },
        {
          "output_type": "execute_result",
          "data": {
            "text/plain": [
              "        Month  Day_of_Month  Estimated_Arrival_Time  Origin_Airport_ID  \\\n",
              "909672      8             4                   952.0              11298   \n",
              "67169       8            27                  2021.0              11057   \n",
              "402521      8             1                  1733.0              13930   \n",
              "648716      5            30                    11.0              14771   \n",
              "100316     12            18                  1317.0              13495   \n",
              "...       ...           ...                     ...                ...   \n",
              "85465       7            23                  1743.0              14747   \n",
              "985222      9            23                  1615.0              11292   \n",
              "544160      3            11                  1552.0              10397   \n",
              "376502     10            14                  1820.0              14747   \n",
              "79615       1            17                   933.0              10721   \n",
              "\n",
              "        Destination_Airport_ID  Distance  Tail_Number  \\\n",
              "909672                   14588     435.0         4009   \n",
              "67169                    13930     599.0          591   \n",
              "402521                   12278     588.0         5745   \n",
              "648716                   12889     414.0         4394   \n",
              "100316                   10693     471.0         5456   \n",
              "...                        ...       ...          ...   \n",
              "85465                    11259    1670.0          781   \n",
              "985222                   15304    1506.0         4902   \n",
              "544160                   10821     577.0         5566   \n",
              "376502                   12889     867.0         1442   \n",
              "79615                    11618     200.0         1025   \n",
              "\n",
              "        Estimated_Departure_Time  prediction_label  \n",
              "909672                     901.0        815.528433  \n",
              "67169                     1920.0       1846.458809  \n",
              "402521                    1530.0       1494.969229  \n",
              "648716                    2235.0       2184.373609  \n",
              "100316                    1145.0       1145.460150  \n",
              "...                          ...               ...  \n",
              "85465                     1145.0       1152.631894  \n",
              "985222                    1045.0       1069.906532  \n",
              "544160                    1400.0       1416.572767  \n",
              "376502                    1555.0       1600.665166  \n",
              "79615                      805.0        795.894789  \n",
              "\n",
              "[158726 rows x 9 columns]"
            ],
            "text/html": [
              "\n",
              "  <div id=\"df-fe755b56-e5cc-42e0-97af-742d6bfeb759\">\n",
              "    <div class=\"colab-df-container\">\n",
              "      <div>\n",
              "<style scoped>\n",
              "    .dataframe tbody tr th:only-of-type {\n",
              "        vertical-align: middle;\n",
              "    }\n",
              "\n",
              "    .dataframe tbody tr th {\n",
              "        vertical-align: top;\n",
              "    }\n",
              "\n",
              "    .dataframe thead th {\n",
              "        text-align: right;\n",
              "    }\n",
              "</style>\n",
              "<table border=\"1\" class=\"dataframe\">\n",
              "  <thead>\n",
              "    <tr style=\"text-align: right;\">\n",
              "      <th></th>\n",
              "      <th>Month</th>\n",
              "      <th>Day_of_Month</th>\n",
              "      <th>Estimated_Arrival_Time</th>\n",
              "      <th>Origin_Airport_ID</th>\n",
              "      <th>Destination_Airport_ID</th>\n",
              "      <th>Distance</th>\n",
              "      <th>Tail_Number</th>\n",
              "      <th>Estimated_Departure_Time</th>\n",
              "      <th>prediction_label</th>\n",
              "    </tr>\n",
              "  </thead>\n",
              "  <tbody>\n",
              "    <tr>\n",
              "      <th>909672</th>\n",
              "      <td>8</td>\n",
              "      <td>4</td>\n",
              "      <td>952.0</td>\n",
              "      <td>11298</td>\n",
              "      <td>14588</td>\n",
              "      <td>435.0</td>\n",
              "      <td>4009</td>\n",
              "      <td>901.0</td>\n",
              "      <td>815.528433</td>\n",
              "    </tr>\n",
              "    <tr>\n",
              "      <th>67169</th>\n",
              "      <td>8</td>\n",
              "      <td>27</td>\n",
              "      <td>2021.0</td>\n",
              "      <td>11057</td>\n",
              "      <td>13930</td>\n",
              "      <td>599.0</td>\n",
              "      <td>591</td>\n",
              "      <td>1920.0</td>\n",
              "      <td>1846.458809</td>\n",
              "    </tr>\n",
              "    <tr>\n",
              "      <th>402521</th>\n",
              "      <td>8</td>\n",
              "      <td>1</td>\n",
              "      <td>1733.0</td>\n",
              "      <td>13930</td>\n",
              "      <td>12278</td>\n",
              "      <td>588.0</td>\n",
              "      <td>5745</td>\n",
              "      <td>1530.0</td>\n",
              "      <td>1494.969229</td>\n",
              "    </tr>\n",
              "    <tr>\n",
              "      <th>648716</th>\n",
              "      <td>5</td>\n",
              "      <td>30</td>\n",
              "      <td>11.0</td>\n",
              "      <td>14771</td>\n",
              "      <td>12889</td>\n",
              "      <td>414.0</td>\n",
              "      <td>4394</td>\n",
              "      <td>2235.0</td>\n",
              "      <td>2184.373609</td>\n",
              "    </tr>\n",
              "    <tr>\n",
              "      <th>100316</th>\n",
              "      <td>12</td>\n",
              "      <td>18</td>\n",
              "      <td>1317.0</td>\n",
              "      <td>13495</td>\n",
              "      <td>10693</td>\n",
              "      <td>471.0</td>\n",
              "      <td>5456</td>\n",
              "      <td>1145.0</td>\n",
              "      <td>1145.460150</td>\n",
              "    </tr>\n",
              "    <tr>\n",
              "      <th>...</th>\n",
              "      <td>...</td>\n",
              "      <td>...</td>\n",
              "      <td>...</td>\n",
              "      <td>...</td>\n",
              "      <td>...</td>\n",
              "      <td>...</td>\n",
              "      <td>...</td>\n",
              "      <td>...</td>\n",
              "      <td>...</td>\n",
              "    </tr>\n",
              "    <tr>\n",
              "      <th>85465</th>\n",
              "      <td>7</td>\n",
              "      <td>23</td>\n",
              "      <td>1743.0</td>\n",
              "      <td>14747</td>\n",
              "      <td>11259</td>\n",
              "      <td>1670.0</td>\n",
              "      <td>781</td>\n",
              "      <td>1145.0</td>\n",
              "      <td>1152.631894</td>\n",
              "    </tr>\n",
              "    <tr>\n",
              "      <th>985222</th>\n",
              "      <td>9</td>\n",
              "      <td>23</td>\n",
              "      <td>1615.0</td>\n",
              "      <td>11292</td>\n",
              "      <td>15304</td>\n",
              "      <td>1506.0</td>\n",
              "      <td>4902</td>\n",
              "      <td>1045.0</td>\n",
              "      <td>1069.906532</td>\n",
              "    </tr>\n",
              "    <tr>\n",
              "      <th>544160</th>\n",
              "      <td>3</td>\n",
              "      <td>11</td>\n",
              "      <td>1552.0</td>\n",
              "      <td>10397</td>\n",
              "      <td>10821</td>\n",
              "      <td>577.0</td>\n",
              "      <td>5566</td>\n",
              "      <td>1400.0</td>\n",
              "      <td>1416.572767</td>\n",
              "    </tr>\n",
              "    <tr>\n",
              "      <th>376502</th>\n",
              "      <td>10</td>\n",
              "      <td>14</td>\n",
              "      <td>1820.0</td>\n",
              "      <td>14747</td>\n",
              "      <td>12889</td>\n",
              "      <td>867.0</td>\n",
              "      <td>1442</td>\n",
              "      <td>1555.0</td>\n",
              "      <td>1600.665166</td>\n",
              "    </tr>\n",
              "    <tr>\n",
              "      <th>79615</th>\n",
              "      <td>1</td>\n",
              "      <td>17</td>\n",
              "      <td>933.0</td>\n",
              "      <td>10721</td>\n",
              "      <td>11618</td>\n",
              "      <td>200.0</td>\n",
              "      <td>1025</td>\n",
              "      <td>805.0</td>\n",
              "      <td>795.894789</td>\n",
              "    </tr>\n",
              "  </tbody>\n",
              "</table>\n",
              "<p>158726 rows × 9 columns</p>\n",
              "</div>\n",
              "      <button class=\"colab-df-convert\" onclick=\"convertToInteractive('df-fe755b56-e5cc-42e0-97af-742d6bfeb759')\"\n",
              "              title=\"Convert this dataframe to an interactive table.\"\n",
              "              style=\"display:none;\">\n",
              "        \n",
              "  <svg xmlns=\"http://www.w3.org/2000/svg\" height=\"24px\"viewBox=\"0 0 24 24\"\n",
              "       width=\"24px\">\n",
              "    <path d=\"M0 0h24v24H0V0z\" fill=\"none\"/>\n",
              "    <path d=\"M18.56 5.44l.94 2.06.94-2.06 2.06-.94-2.06-.94-.94-2.06-.94 2.06-2.06.94zm-11 1L8.5 8.5l.94-2.06 2.06-.94-2.06-.94L8.5 2.5l-.94 2.06-2.06.94zm10 10l.94 2.06.94-2.06 2.06-.94-2.06-.94-.94-2.06-.94 2.06-2.06.94z\"/><path d=\"M17.41 7.96l-1.37-1.37c-.4-.4-.92-.59-1.43-.59-.52 0-1.04.2-1.43.59L10.3 9.45l-7.72 7.72c-.78.78-.78 2.05 0 2.83L4 21.41c.39.39.9.59 1.41.59.51 0 1.02-.2 1.41-.59l7.78-7.78 2.81-2.81c.8-.78.8-2.07 0-2.86zM5.41 20L4 18.59l7.72-7.72 1.47 1.35L5.41 20z\"/>\n",
              "  </svg>\n",
              "      </button>\n",
              "      \n",
              "  <style>\n",
              "    .colab-df-container {\n",
              "      display:flex;\n",
              "      flex-wrap:wrap;\n",
              "      gap: 12px;\n",
              "    }\n",
              "\n",
              "    .colab-df-convert {\n",
              "      background-color: #E8F0FE;\n",
              "      border: none;\n",
              "      border-radius: 50%;\n",
              "      cursor: pointer;\n",
              "      display: none;\n",
              "      fill: #1967D2;\n",
              "      height: 32px;\n",
              "      padding: 0 0 0 0;\n",
              "      width: 32px;\n",
              "    }\n",
              "\n",
              "    .colab-df-convert:hover {\n",
              "      background-color: #E2EBFA;\n",
              "      box-shadow: 0px 1px 2px rgba(60, 64, 67, 0.3), 0px 1px 3px 1px rgba(60, 64, 67, 0.15);\n",
              "      fill: #174EA6;\n",
              "    }\n",
              "\n",
              "    [theme=dark] .colab-df-convert {\n",
              "      background-color: #3B4455;\n",
              "      fill: #D2E3FC;\n",
              "    }\n",
              "\n",
              "    [theme=dark] .colab-df-convert:hover {\n",
              "      background-color: #434B5C;\n",
              "      box-shadow: 0px 1px 3px 1px rgba(0, 0, 0, 0.15);\n",
              "      filter: drop-shadow(0px 1px 2px rgba(0, 0, 0, 0.3));\n",
              "      fill: #FFFFFF;\n",
              "    }\n",
              "  </style>\n",
              "\n",
              "      <script>\n",
              "        const buttonEl =\n",
              "          document.querySelector('#df-fe755b56-e5cc-42e0-97af-742d6bfeb759 button.colab-df-convert');\n",
              "        buttonEl.style.display =\n",
              "          google.colab.kernel.accessAllowed ? 'block' : 'none';\n",
              "\n",
              "        async function convertToInteractive(key) {\n",
              "          const element = document.querySelector('#df-fe755b56-e5cc-42e0-97af-742d6bfeb759');\n",
              "          const dataTable =\n",
              "            await google.colab.kernel.invokeFunction('convertToInteractive',\n",
              "                                                     [key], {});\n",
              "          if (!dataTable) return;\n",
              "\n",
              "          const docLinkHtml = 'Like what you see? Visit the ' +\n",
              "            '<a target=\"_blank\" href=https://colab.research.google.com/notebooks/data_table.ipynb>data table notebook</a>'\n",
              "            + ' to learn more about interactive tables.';\n",
              "          element.innerHTML = '';\n",
              "          dataTable['output_type'] = 'display_data';\n",
              "          await google.colab.output.renderOutput(dataTable, element);\n",
              "          const docLink = document.createElement('div');\n",
              "          docLink.innerHTML = docLinkHtml;\n",
              "          element.appendChild(docLink);\n",
              "        }\n",
              "      </script>\n",
              "    </div>\n",
              "  </div>\n",
              "  "
            ]
          },
          "metadata": {},
          "execution_count": 33
        }
      ]
    },
    {
      "cell_type": "code",
      "source": [
        "final_lgbm2 = finalize_model(estimator=tuned_lgbm2)\n",
        "save_model(model=final_lgbm2, model_name='departure_lgbm',verbose=False)"
      ],
      "metadata": {
        "id": "Ls7e7EeqJXhq",
        "colab": {
          "base_uri": "https://localhost:8080/"
        },
        "outputId": "5122cf3e-8a16-4ddb-f104-e82e0ae96b10"
      },
      "execution_count": null,
      "outputs": [
        {
          "output_type": "execute_result",
          "data": {
            "text/plain": [
              "(Pipeline(memory=FastMemory(location=/tmp/joblib),\n",
              "          steps=[('numerical_imputer',\n",
              "                  TransformerWrapper(include=['Month', 'Day_of_Month',\n",
              "                                              'Estimated_Arrival_Time',\n",
              "                                              'Origin_Airport_ID',\n",
              "                                              'Destination_Airport_ID',\n",
              "                                              'Distance', 'Tail_Number'],\n",
              "                                     transformer=SimpleImputer())),\n",
              "                 ('categorical_imputer',\n",
              "                  TransformerWrapper(include=[],\n",
              "                                     transformer=SimpleImputer(strategy='most_frequent'))),\n",
              "                 ('actual_estimator',\n",
              "                  LGBMRegressor(bagging_fraction=1.0, bagging_freq=1,\n",
              "                                feature_fraction=0.9, min_child_samples=36,\n",
              "                                min_split_gain=0.6, n_estimators=110,\n",
              "                                num_leaves=30, random_state=7601, reg_alpha=0.1,\n",
              "                                reg_lambda=0.001))]),\n",
              " 'departure_lgbm.pkl')"
            ]
          },
          "metadata": {},
          "execution_count": 34
        }
      ]
    },
    {
      "cell_type": "markdown",
      "source": [
        "## **2. Route Information**\n",
        "\n",
        "- 출발, 도착치를 기준으로 route 별 정보를 최빈값으로 저장"
      ],
      "metadata": {
        "id": "5In6sQtnWT3s"
      }
    },
    {
      "cell_type": "code",
      "source": [
        "#모든 루트 저장\n",
        "train = pd.read_parquet('./train.parquet')\n",
        "route=train.drop_duplicates(subset=['Origin_Airport_ID','Destination_Airport_ID'])[['Origin_Airport_ID','Destination_Airport_ID']].reset_index(drop=True)\n",
        "\n",
        "for i in range(0,len(route)):\n",
        "  orig=route.loc[i,'Origin_Airport_ID']\n",
        "  des=route.loc[i,'Destination_Airport_ID']\n",
        "  route_tmp=train[(train['Origin_Airport_ID']==orig) & (train['Destination_Airport_ID']==des)]\n",
        "  med_dist=route_tmp['Distance'].median()\n",
        "  try:\n",
        "    mod_arr_time=route_tmp['Estimated_Arrival_Time'].mode()[0]\n",
        "  except:\n",
        "    mod_arr_time=np.nan\n",
        "  try:\n",
        "    mod_dep_time=route_tmp['Estimated_Departure_Time'].mode()[0]\n",
        "  except:\n",
        "    mod_dep_time=np.nan\n",
        "\n",
        "  route.loc[i,'mean_distance']=med_dist\n",
        "  route.loc[i,'mod_arrival_time']=mod_arr_time\n",
        "  route.loc[i,'mod_depature_time']=mod_dep_time\n",
        "\n",
        "route.to_csv('route.csv')"
      ],
      "metadata": {
        "id": "Vp07jZG7WYYc"
      },
      "execution_count": null,
      "outputs": []
    },
    {
      "cell_type": "markdown",
      "source": [
        "## **3. Fuction of prediction the missing values by Model**\n",
        "\n",
        "- 출발 시간이 결측치인 레코드 : 출발 시간 예측\n",
        "- 도착 시간이 결측치인 레코드 : 도착 시간 예측\n",
        "- 출발, 도착시간 모두 결측치인 레코드 : route 정보를 가져와서 출발시간의 최빈값으로 대체 후 도착시간을 예측\n",
        "    - 도착시간 예측 모델의 성능이 더 좋으므로 도착시간 예측 모델을 우선적으로 활용\n",
        "    - 이후 출발시간이 없는 route 정보가 있어 발생된 누락분은 도착시간을 최빈값으로 대체 후 출발 시간을 예측 "
      ],
      "metadata": {
        "id": "rSjBROVEVMHt"
      }
    },
    {
      "cell_type": "code",
      "source": [
        "from pycaret.regression import *\n",
        "from lightgbm import LGBMRegressor\n",
        "from sklearn.preprocessing import LabelEncoder\n",
        "\n",
        "route=pd.read_csv('route.csv')\n",
        "\n",
        "arr_lgbm=load_model('model/arrival_lgbm')\n",
        "dep_lgbm=load_model('model/departure_lgbm')\n",
        "arr_dep_lgbm=load_model('model/arr_dep_lgbm')\n",
        "\n",
        "def pred_time(data):\n",
        "  arr_na_idx=data[data['Estimated_Arrival_Time'].isna() & data['Estimated_Departure_Time'].notna()].index\n",
        "  dep_na_idx=data[data['Estimated_Arrival_Time'].notna() & data['Estimated_Departure_Time'].isna()].index\n",
        "  all_na_idx=data[data['Estimated_Arrival_Time'].isna() & data['Estimated_Departure_Time'].isna()].index\n",
        "\n",
        "  arr_na=data.loc[arr_na_idx].drop(columns={'Estimated_Arrival_Time'})\n",
        "  pred_arr=arr_lgbm.predict(arr_na)\n",
        "\n",
        "  dep_na=data.loc[dep_na_idx].drop(columns={'Estimated_Departure_Time'})\n",
        "  pred_dep=dep_lgbm.predict(dep_na)\n",
        "\n",
        "  all_na=data.loc[all_na_idx].drop(columns={'Estimated_Arrival_Time','Estimated_Departure_Time'})\n",
        "\n",
        "  #출발, 도착시간이 없는 경우 train 데이터의 route별 요약정보를 가져와서 대체 #출발시간 최빈값\n",
        "  for i in range(len(route)):\n",
        "    orig=route.loc[i,'Origin_Airport_ID']\n",
        "    des=route.loc[i,'Destination_Airport_ID']\n",
        "    mode=route.loc[i,'mod_arrival_time']\n",
        "\n",
        "    idx=all_na[(all_na['Origin_Airport_ID']==orig) & (all_na['Destination_Airport_ID']==des)].index\n",
        "    all_na.loc[idx,'Estimated_Arrival_Time']=mode\n",
        "  \n",
        "  pred_arr_dep1=list(all_na['Estimated_Arrival_Time'])\n",
        "  pred_arr_dep2=dep_lgbm.predict(all_na)\n",
        "\n",
        "  data.loc[arr_na_idx,'Estimated_Arrival_Time']=pred_arr\n",
        "  data.loc[dep_na_idx,'Estimated_Departure_Time']=pred_dep\n",
        "  data.loc[all_na_idx,'Estimated_Arrival_Time']=pred_arr_dep1\n",
        "  data.loc[all_na_idx,'Estimated_Departure_Time']=pred_arr_dep2\n",
        "\n",
        "  #누락분 - 도착시간 최빈값\n",
        "  final=data[data['Estimated_Arrival_Time'].isna()]\n",
        "  final_idx=final.index\n",
        "  print('누락분 : ',len(final),'도착시간 최빈값으로 대체')\n",
        "\n",
        "  for i in range(len(route)):\n",
        "    orig=route.loc[i,'Origin_Airport_ID']\n",
        "    des=route.loc[i,'Destination_Airport_ID']\n",
        "    mode=route.loc[i,'mod_depature_time']\n",
        "    \n",
        "\n",
        "    idx=final[(final['Origin_Airport_ID']==orig) & (final['Destination_Airport_ID']==des)].index\n",
        "    final.loc[idx,'Estimated_Departure_Time']=mode\n",
        "\n",
        "  pred_arr_dep3=arr_lgbm.predict(final.drop(columns={'Estimated_Arrival_Time'}))\n",
        "  data.loc[final_idx,'Estimated_Arrival_Time']=pred_arr_dep3\n",
        "\n",
        "  return data['Estimated_Arrival_Time'],data['Estimated_Departure_Time']\n"
      ],
      "metadata": {
        "colab": {
          "base_uri": "https://localhost:8080/"
        },
        "id": "1zQs4klZEf0S",
        "outputId": "3d66a506-e305-4fa9-974b-4747d6b3bd7d"
      },
      "execution_count": null,
      "outputs": [
        {
          "output_type": "stream",
          "name": "stdout",
          "text": [
            "Transformation Pipeline and Model Successfully Loaded\n",
            "Transformation Pipeline and Model Successfully Loaded\n",
            "Transformation Pipeline and Model Successfully Loaded\n"
          ]
        }
      ]
    },
    {
      "cell_type": "markdown",
      "source": [
        "# **⭐ Final Model Dev**\n",
        "\n",
        "- 변수 중요도 확인 결과, 결측치 변수 중 출발/도착 시간 변수를 제외하고는 중요도가 미미하므로 제외\n",
        "- 출발/도착 시간은 LightGBM 모델을 사용하여 결측치 예측\n",
        "- 정형데이터에 적합한 TabNet 딥러닝 모델 개발 \n",
        "  - 종속변수의 클래스 불균형해결을 위해 BorderlineSMOTE 활용\n",
        "  - TabNetPretrainer 사용하여 레이블이 없는 데이터 학습\n",
        "  - 최종 TabNetPretrainer + TabNetClassifier 모델 학습\n",
        "  - tuning은 Pretrainer 모델에 적용할 경우 일반화 성능이 떨어져 최종 모델에만 적용함"
      ],
      "metadata": {
        "id": "H7upv3iYZQPU"
      }
    },
    {
      "cell_type": "markdown",
      "source": [
        "## **1. BASELINE**"
      ],
      "metadata": {
        "id": "rNEdDTH_M4K4"
      }
    },
    {
      "cell_type": "markdown",
      "source": [
        "**csv to parquet**"
      ],
      "metadata": {
        "id": "ShEnUpH0M-Xn"
      }
    },
    {
      "cell_type": "code",
      "source": [
        "def csv_to_parquet(csv_path, save_name):\n",
        "    df = pd.read_csv(csv_path)\n",
        "    df.to_parquet(f'./{save_name}.parquet')\n",
        "    del df\n",
        "    gc.collect()\n",
        "    print(save_name, 'Done.')\n",
        "\n",
        "csv_to_parquet('./train.csv', 'train')\n",
        "csv_to_parquet('./test.csv', 'test')"
      ],
      "metadata": {
        "id": "UYeKn7lXM6Qn"
      },
      "execution_count": null,
      "outputs": []
    },
    {
      "cell_type": "markdown",
      "source": [
        "**Data Load**"
      ],
      "metadata": {
        "id": "hwnYdwRCNAwY"
      }
    },
    {
      "cell_type": "code",
      "source": [
        "train = pd.read_parquet('./train.parquet')\n",
        "test = pd.read_parquet('./test.parquet')\n",
        "sample_submission = pd.read_csv('data/sample_submission.csv', index_col = 0)"
      ],
      "metadata": {
        "id": "2g0Vx9HhM8Rp"
      },
      "execution_count": null,
      "outputs": []
    },
    {
      "cell_type": "markdown",
      "source": [
        "**Data Pre-Processing**"
      ],
      "metadata": {
        "id": "PL2CEktBNH4j"
      }
    },
    {
      "cell_type": "code",
      "source": [
        "# Origin_State, Destination_State 다른 위치정보와 중복되므로 삭제 #항공기 정보 삭제\n",
        "train.drop(columns=['Origin_State','Destination_State','Origin_Airport','Destination_Airport','Airline', 'Carrier_Code(IATA)','Carrier_ID(DOT)'],inplace=True)\n",
        "#Cancelled, Diverted 제거\n",
        "train.drop(columns=['Cancelled','Diverted'],inplace=True)\n",
        "#고유값 삭제\n",
        "train.drop(columns=['ID'],inplace=True)\n",
        "\n",
        "# Origin_State, Destination_State 다른 위치정보와 중복되므로 삭제 #항공기 정보 삭제\n",
        "test.drop(columns=['Origin_State','Destination_State','Origin_Airport','Destination_Airport','Airline', 'Carrier_Code(IATA)','Carrier_ID(DOT)'],inplace=True)\n",
        "#Cancelled, Diverted 제거\n",
        "test.drop(columns=['Cancelled','Diverted'],inplace=True)\n",
        "#고유값 삭제\n",
        "test.drop(columns=['ID'],inplace=True)"
      ],
      "metadata": {
        "id": "r22lydRlNJX0"
      },
      "execution_count": null,
      "outputs": []
    },
    {
      "cell_type": "code",
      "source": [
        "#LaeblEncoding\n",
        "qual_col = ['Tail_Number']\n",
        "\n",
        "for i in qual_col:\n",
        "    le = LabelEncoder()\n",
        "    le=le.fit(train[i])\n",
        "    train[i]=le.transform(train[i])\n",
        "    \n",
        "    for label in np.unique(test[i]):\n",
        "        if label not in le.classes_: \n",
        "            le.classes_ = np.append(le.classes_, label)\n",
        "    test[i]=le.transform(test[i])\n",
        "\n",
        "#시간 결측치 예측\n",
        "train['Estimated_Arrival_Time'],train['Estimated_Departure_Time']=pred_time(train.drop(columns={'Delay'}))\n",
        "test['Estimated_Arrival_Time'],test['Estimated_Departure_Time']=pred_time(test)"
      ],
      "metadata": {
        "colab": {
          "base_uri": "https://localhost:8080/"
        },
        "id": "xJxwVb9aG20c",
        "outputId": "7e80cf41-8d3a-4366-f238-2b6ca287b581"
      },
      "execution_count": null,
      "outputs": [
        {
          "output_type": "stream",
          "name": "stdout",
          "text": [
            "누락분 :  2 도착시간 최빈값으로 대체\n",
            "누락분 :  4 도착시간 최빈값으로 대체\n"
          ]
        }
      ]
    },
    {
      "cell_type": "code",
      "source": [
        "train.info()\n",
        "print(' ')\n",
        "test.info()"
      ],
      "metadata": {
        "colab": {
          "base_uri": "https://localhost:8080/"
        },
        "id": "5MrBHY1NPM7c",
        "outputId": "ea700180-4420-4782-883f-5f498e9e5fd0"
      },
      "execution_count": null,
      "outputs": [
        {
          "output_type": "stream",
          "name": "stdout",
          "text": [
            "<class 'pandas.core.frame.DataFrame'>\n",
            "RangeIndex: 1000000 entries, 0 to 999999\n",
            "Data columns (total 9 columns):\n",
            " #   Column                    Non-Null Count    Dtype  \n",
            "---  ------                    --------------    -----  \n",
            " 0   Month                     1000000 non-null  int64  \n",
            " 1   Day_of_Month              1000000 non-null  int64  \n",
            " 2   Estimated_Departure_Time  1000000 non-null  float64\n",
            " 3   Estimated_Arrival_Time    1000000 non-null  float64\n",
            " 4   Origin_Airport_ID         1000000 non-null  int64  \n",
            " 5   Destination_Airport_ID    1000000 non-null  int64  \n",
            " 6   Distance                  1000000 non-null  float64\n",
            " 7   Tail_Number               1000000 non-null  int64  \n",
            " 8   Delay                     255001 non-null   object \n",
            "dtypes: float64(3), int64(5), object(1)\n",
            "memory usage: 68.7+ MB\n",
            " \n",
            "<class 'pandas.core.frame.DataFrame'>\n",
            "RangeIndex: 1000000 entries, 0 to 999999\n",
            "Data columns (total 8 columns):\n",
            " #   Column                    Non-Null Count    Dtype  \n",
            "---  ------                    --------------    -----  \n",
            " 0   Month                     1000000 non-null  int64  \n",
            " 1   Day_of_Month              1000000 non-null  int64  \n",
            " 2   Estimated_Departure_Time  1000000 non-null  float64\n",
            " 3   Estimated_Arrival_Time    1000000 non-null  float64\n",
            " 4   Origin_Airport_ID         1000000 non-null  int64  \n",
            " 5   Destination_Airport_ID    1000000 non-null  int64  \n",
            " 6   Distance                  1000000 non-null  float64\n",
            " 7   Tail_Number               1000000 non-null  int64  \n",
            "dtypes: float64(3), int64(5)\n",
            "memory usage: 61.0 MB\n"
          ]
        }
      ]
    },
    {
      "cell_type": "code",
      "source": [],
      "metadata": {
        "id": "x0rPN9hCZeca"
      },
      "execution_count": null,
      "outputs": []
    },
    {
      "cell_type": "markdown",
      "source": [
        "## **2. TabNet**"
      ],
      "metadata": {
        "id": "F7w-9JLyZ6Q5"
      }
    },
    {
      "cell_type": "code",
      "source": [
        "import torch\n",
        "import optuna\n",
        "\n",
        "from optuna import Trial, visualization\n",
        "from pytorch_tabnet.metrics import Metric\n",
        "from sklearn.metrics import roc_auc_score\n",
        "from pytorch_tabnet.tab_model import TabNetClassifier\n",
        "from pytorch_tabnet.pretraining import TabNetPretrainer\n",
        "\n",
        "from sklearn.base import TransformerMixin, BaseEstimator\n",
        "from sklearn.pipeline import Pipeline, FeatureUnion\n",
        "from sklearn.model_selection import KFold\n",
        "from sklearn.model_selection import train_test_split\n",
        "# from imblearn.over_sampling import SMOTE\n",
        "from imblearn.over_sampling import BorderlineSMOTE\n",
        "\n",
        "class CFG:\n",
        "    SEED = 26"
      ],
      "metadata": {
        "id": "nNV5vLStansR"
      },
      "execution_count": null,
      "outputs": []
    },
    {
      "cell_type": "code",
      "source": [
        "target = 'Delay'"
      ],
      "metadata": {
        "id": "_VcHb5tAa7xg"
      },
      "execution_count": null,
      "outputs": []
    },
    {
      "cell_type": "code",
      "source": [
        "train_notna = train.dropna().reset_index(drop=True)\n",
        "\n",
        "train_na=train[train['Delay'].isna()].reset_index(drop=True)\n",
        "train_na.drop(columns=['Delay'],inplace=True)\n",
        "\n",
        "column_number = {}\n",
        "for i, column in enumerate(sample_submission.columns):\n",
        "    column_number[column] = i\n",
        "    \n",
        "def to_number(x, dic):\n",
        "    return dic[x]\n",
        "\n",
        "train_notna.loc[:, 'Delay_num'] = train_notna['Delay'].apply(lambda x: to_number(x, column_number))\n",
        "print('Done.')"
      ],
      "metadata": {
        "colab": {
          "base_uri": "https://localhost:8080/"
        },
        "id": "PamIptD3xpnW",
        "outputId": "831c72ba-6993-4d7d-e7e8-d27d89cd215b"
      },
      "execution_count": null,
      "outputs": [
        {
          "output_type": "stream",
          "name": "stdout",
          "text": [
            "Done.\n"
          ]
        }
      ]
    },
    {
      "cell_type": "code",
      "source": [
        "cutoff=round(len(train_na)*0.8)\n",
        "\n",
        "unlabeled_X_train=train_na.iloc[:cutoff].to_numpy()\n",
        "unlabeled_X_val=train_na.iloc[cutoff:].to_numpy()\n",
        "\n",
        "X=train_notna.drop(columns=['Delay', 'Delay_num'])\n",
        "y=train_notna['Delay_num']\n",
        "print(len(X),len(y))\n",
        "\n",
        "X, X_test, y, y_test = train_test_split(X,y,test_size = 0.2, random_state = 156,stratify=y)\n",
        "X_train, X_val, y_train, y_val = train_test_split(X,y,test_size = 0.2, random_state = 156,stratify=y)\n",
        "\n",
        "print(len(X_train),len(X_val),len(X_test))\n",
        "print(len(y_train),len(y_val),len(y_test))\n",
        "\n",
        "x_smote, y_smote = BorderlineSMOTE(random_state=CFG.SEED).fit_resample(X_train,y_train)\n",
        "# # sm = SMOTE(sampling_strategy='auto', random_state=0)\n",
        "# x_smote, y_smote = sm.fit_resample(X_train,y_train)\n",
        "\n",
        "X_train=x_smote.to_numpy()\n",
        "X_test=X_test.to_numpy()\n",
        "X_val=X_val.to_numpy()\n",
        "y_train=y_smote.to_numpy()\n",
        "y_test=y_test.to_numpy()\n",
        "y_val=y_val.to_numpy()\n"
      ],
      "metadata": {
        "colab": {
          "base_uri": "https://localhost:8080/"
        },
        "id": "lyV91ZXYxu0d",
        "outputId": "c65e0cd6-e662-4f3b-8e83-4e3770591f23"
      },
      "execution_count": null,
      "outputs": [
        {
          "output_type": "stream",
          "name": "stdout",
          "text": [
            "255001 255001\n",
            "163200 40800 51001\n",
            "163200 40800 51001\n"
          ]
        }
      ]
    },
    {
      "cell_type": "code",
      "source": [
        "unsupervised_model = TabNetPretrainer(\n",
        "    optimizer_fn=torch.optim.Adam,\n",
        "    optimizer_params=dict(lr=2e-2),\n",
        "    mask_type=\"entmax\"\n",
        ")\n",
        "\n",
        "unsupervised_model.fit(\n",
        "    X_train=unlabeled_X_train,\n",
        "    eval_set=[unlabeled_X_val],\n",
        "    pretraining_ratio=0.8,\n",
        ")\n"
      ],
      "metadata": {
        "colab": {
          "base_uri": "https://localhost:8080/"
        },
        "id": "s1VbDpeLxxao",
        "outputId": "1610e173-caec-4da1-981a-ea8d3d38373d"
      },
      "execution_count": null,
      "outputs": [
        {
          "output_type": "stream",
          "name": "stdout",
          "text": [
            "epoch 0  | loss: 13.54234| val_0_unsup_loss_numpy: 11.702320098876953|  0:00:39s\n",
            "epoch 1  | loss: 2.26081 | val_0_unsup_loss_numpy: 6.585410118103027|  0:01:17s\n",
            "epoch 2  | loss: 1.09014 | val_0_unsup_loss_numpy: 3.6020400524139404|  0:01:57s\n",
            "epoch 3  | loss: 1.0057  | val_0_unsup_loss_numpy: 2.2026000022888184|  0:02:31s\n",
            "epoch 4  | loss: 0.99049 | val_0_unsup_loss_numpy: 1.6425000429153442|  0:03:04s\n",
            "epoch 5  | loss: 0.98597 | val_0_unsup_loss_numpy: 1.11489999294281|  0:03:41s\n",
            "epoch 6  | loss: 0.98224 | val_0_unsup_loss_numpy: 1.0873299837112427|  0:04:14s\n",
            "epoch 7  | loss: 0.98072 | val_0_unsup_loss_numpy: 0.9630399942398071|  0:04:48s\n",
            "epoch 8  | loss: 0.97962 | val_0_unsup_loss_numpy: 0.9545599818229675|  0:05:22s\n",
            "epoch 9  | loss: 0.98015 | val_0_unsup_loss_numpy: 0.9182900190353394|  0:05:55s\n",
            "epoch 10 | loss: 0.97827 | val_0_unsup_loss_numpy: 0.8788099884986877|  0:06:29s\n",
            "epoch 11 | loss: 0.98011 | val_0_unsup_loss_numpy: 0.8553199768066406|  0:07:06s\n",
            "epoch 12 | loss: 0.98046 | val_0_unsup_loss_numpy: 0.8780900239944458|  0:07:40s\n",
            "epoch 13 | loss: 0.97703 | val_0_unsup_loss_numpy: 0.8785099983215332|  0:08:13s\n",
            "epoch 14 | loss: 0.9821  | val_0_unsup_loss_numpy: 0.8759300112724304|  0:08:47s\n",
            "epoch 15 | loss: 0.97584 | val_0_unsup_loss_numpy: 0.8402199745178223|  0:09:19s\n",
            "epoch 16 | loss: 0.97656 | val_0_unsup_loss_numpy: 0.85343998670578|  0:09:53s\n",
            "epoch 17 | loss: 0.97638 | val_0_unsup_loss_numpy: 0.8621299862861633|  0:10:30s\n",
            "epoch 18 | loss: 0.97246 | val_0_unsup_loss_numpy: 0.8371899724006653|  0:11:04s\n",
            "epoch 19 | loss: 0.97753 | val_0_unsup_loss_numpy: 0.8433600068092346|  0:11:37s\n",
            "epoch 20 | loss: 0.98227 | val_0_unsup_loss_numpy: 0.8764500021934509|  0:12:11s\n",
            "epoch 21 | loss: 0.98318 | val_0_unsup_loss_numpy: 0.9306300282478333|  0:12:44s\n",
            "epoch 22 | loss: 0.97461 | val_0_unsup_loss_numpy: 0.8548300266265869|  0:13:17s\n",
            "epoch 23 | loss: 0.9721  | val_0_unsup_loss_numpy: 0.8699399828910828|  0:13:54s\n",
            "epoch 24 | loss: 0.97885 | val_0_unsup_loss_numpy: 0.8449400067329407|  0:14:27s\n",
            "epoch 25 | loss: 0.97074 | val_0_unsup_loss_numpy: 0.8238199949264526|  0:15:01s\n",
            "epoch 26 | loss: 0.9688  | val_0_unsup_loss_numpy: 0.8481799960136414|  0:15:36s\n",
            "epoch 27 | loss: 0.96764 | val_0_unsup_loss_numpy: 0.8416900038719177|  0:16:09s\n",
            "epoch 28 | loss: 0.96657 | val_0_unsup_loss_numpy: 0.8367499709129333|  0:16:50s\n",
            "epoch 29 | loss: 0.96731 | val_0_unsup_loss_numpy: 0.818310022354126|  0:17:27s\n",
            "epoch 30 | loss: 0.96622 | val_0_unsup_loss_numpy: 0.8334699869155884|  0:18:01s\n",
            "epoch 31 | loss: 0.96676 | val_0_unsup_loss_numpy: 0.8201199769973755|  0:18:33s\n",
            "epoch 32 | loss: 0.96669 | val_0_unsup_loss_numpy: 0.8559799790382385|  0:19:07s\n",
            "epoch 33 | loss: 0.96705 | val_0_unsup_loss_numpy: 0.8321200013160706|  0:19:41s\n",
            "epoch 34 | loss: 0.96545 | val_0_unsup_loss_numpy: 0.8490399718284607|  0:20:15s\n",
            "epoch 35 | loss: 0.96587 | val_0_unsup_loss_numpy: 0.827049970626831|  0:20:52s\n",
            "epoch 36 | loss: 0.96295 | val_0_unsup_loss_numpy: 0.8287699818611145|  0:21:26s\n",
            "epoch 37 | loss: 0.96449 | val_0_unsup_loss_numpy: 0.8278999924659729|  0:22:00s\n",
            "epoch 38 | loss: 0.96405 | val_0_unsup_loss_numpy: 0.8281099796295166|  0:22:40s\n",
            "epoch 39 | loss: 0.96674 | val_0_unsup_loss_numpy: 0.8349599838256836|  0:23:17s\n",
            "\n",
            "Early stopping occurred at epoch 39 with best_epoch = 29 and best_val_0_unsup_loss_numpy = 0.818310022354126\n"
          ]
        }
      ]
    },
    {
      "cell_type": "code",
      "source": [
        "X=train_notna.drop(columns=['Delay', 'Delay_num'])\n",
        "y=train_notna['Delay_num']\n",
        "print(len(X),len(y))\n",
        "\n",
        "def Objective(trial):\n",
        "    mask_type = trial.suggest_categorical(\"mask_type\", [\"entmax\", \"sparsemax\"])\n",
        "    n_da = trial.suggest_int(\"n_da\", 56, 64, step=4)\n",
        "    n_steps = trial.suggest_int(\"n_steps\", 1, 3, step=1)\n",
        "    gamma = trial.suggest_float(\"gamma\", 1., 1.4, step=0.2)\n",
        "    n_shared = trial.suggest_int(\"n_shared\", 1, 3)\n",
        "    lambda_sparse = trial.suggest_float(\"lambda_sparse\", 1e-6, 1e-3, log=True)\n",
        "    tabnet_params = dict(n_d=n_da, n_a=n_da, n_steps=n_steps, gamma=gamma,\n",
        "                     lambda_sparse=lambda_sparse, optimizer_fn=torch.optim.Adam,\n",
        "                     optimizer_params=dict(lr=2e-2, weight_decay=1e-5),\n",
        "                     mask_type=mask_type, n_shared=n_shared,\n",
        "                     scheduler_params=dict(mode=\"min\",\n",
        "                                           patience=trial.suggest_int(\"patienceScheduler\",low=3,high=10),\n",
        "                                           min_lr=1e-5,\n",
        "                                           factor=0.5,),\n",
        "                     scheduler_fn=torch.optim.lr_scheduler.ReduceLROnPlateau,\n",
        "                     ) \n",
        "    kf = KFold(n_splits=5, random_state=CFG.SEED, shuffle=True)\n",
        "    CV_score_array=[]\n",
        "    for train_index, test_index in kf.split(X):\n",
        "        print('split',len(train_index),len(test_index))\n",
        "        X_train, X_val = X.iloc[train_index], X.iloc[test_index]\n",
        "        y_train, y_val = y.iloc[train_index], y.iloc[test_index]\n",
        "        x_smote, y_smote = BorderlineSMOTE(random_state=CFG.SEED).fit_resample(X_train,y_train)\n",
        "        print(y_smote.value_counts())\n",
        "        X_train=x_smote.to_numpy()\n",
        "        y_train=y_smote.to_numpy()\n",
        "        X_val=X_val.to_numpy()\n",
        "        y_val=y_val.to_numpy()\n",
        "\n",
        "        print('split after',len(X_train),len(X_val))\n",
        "\n",
        "        clf = TabNetClassifier(**tabnet_params)\n",
        "        clf.fit(X_train=X_train, y_train=y_train,\n",
        "                  eval_set=[(X_val, y_val)],\n",
        "                  patience=trial.suggest_int(\"patience\",low=15,high=30), max_epochs=trial.suggest_int('epochs', 1, 100),\n",
        "                  eval_metric=['logloss'],\n",
        "                  from_unsupervised=unsupervised_model)\n",
        "        CV_score_array.append(clf.best_cost)\n",
        "    avg = np.mean(CV_score_array)\n",
        "    return avg"
      ],
      "metadata": {
        "colab": {
          "base_uri": "https://localhost:8080/"
        },
        "id": "WYlHsUI6Rrm-",
        "outputId": "4bfa5f6e-8bde-4e73-e820-070d14546f43"
      },
      "execution_count": null,
      "outputs": [
        {
          "output_type": "stream",
          "name": "stdout",
          "text": [
            "255001 255001\n"
          ]
        }
      ]
    },
    {
      "cell_type": "code",
      "source": [
        "study = optuna.create_study(direction=\"minimize\", study_name='TabNet optimization')\n",
        "study.optimize(Objective, timeout=6*60) #5 hours"
      ],
      "metadata": {
        "colab": {
          "base_uri": "https://localhost:8080/"
        },
        "id": "1Y52AQIvSXyl",
        "outputId": "5150f9f6-7189-42e5-9539-5865ab46e085"
      },
      "execution_count": null,
      "outputs": [
        {
          "output_type": "stream",
          "name": "stderr",
          "text": [
            "\u001b[32m[I 2023-04-27 02:08:54,310]\u001b[0m A new study created in memory with name: TabNet optimization\u001b[0m\n"
          ]
        },
        {
          "output_type": "stream",
          "name": "stdout",
          "text": [
            "split 204000 51001\n",
            "0    168018\n",
            "1    168018\n",
            "Name: Delay_num, dtype: int64\n",
            "split after 336036 51001\n",
            "epoch 0  | loss: 0.70999 | val_0_logloss: 0.648   |  0:00:16s\n",
            "epoch 1  | loss: 0.66328 | val_0_logloss: 0.68298 |  0:00:33s\n",
            "epoch 2  | loss: 0.65963 | val_0_logloss: 0.73309 |  0:00:50s\n",
            "epoch 3  | loss: 0.64487 | val_0_logloss: 0.63216 |  0:01:07s\n",
            "epoch 4  | loss: 0.63293 | val_0_logloss: 0.69094 |  0:01:25s\n",
            "epoch 5  | loss: 0.63008 | val_0_logloss: 0.62554 |  0:01:43s\n",
            "epoch 6  | loss: 0.62933 | val_0_logloss: 0.64172 |  0:02:01s\n",
            "epoch 7  | loss: 0.62777 | val_0_logloss: 0.67494 |  0:02:19s\n",
            "epoch 8  | loss: 0.62751 | val_0_logloss: 0.67755 |  0:02:40s\n",
            "epoch 9  | loss: 0.62771 | val_0_logloss: 0.62707 |  0:02:58s\n",
            "epoch 10 | loss: 0.62733 | val_0_logloss: 0.65991 |  0:03:17s\n",
            "epoch 11 | loss: 0.62555 | val_0_logloss: 0.66481 |  0:03:37s\n",
            "epoch 12 | loss: 0.62505 | val_0_logloss: 0.63549 |  0:04:06s\n",
            "epoch 13 | loss: 0.62481 | val_0_logloss: 0.65458 |  0:04:25s\n",
            "epoch 14 | loss: 0.62458 | val_0_logloss: 0.63085 |  0:04:43s\n",
            "epoch 15 | loss: 0.62443 | val_0_logloss: 0.6582  |  0:05:01s\n",
            "epoch 16 | loss: 0.62295 | val_0_logloss: 0.65947 |  0:05:19s\n",
            "epoch 17 | loss: 0.62288 | val_0_logloss: 0.66715 |  0:05:37s\n",
            "epoch 18 | loss: 0.6228  | val_0_logloss: 0.65164 |  0:06:00s\n",
            "epoch 19 | loss: 0.6223  | val_0_logloss: 0.66092 |  0:06:38s\n",
            "epoch 20 | loss: 0.62246 | val_0_logloss: 0.67459 |  0:06:57s\n",
            "epoch 21 | loss: 0.62165 | val_0_logloss: 0.64971 |  0:07:16s\n",
            "epoch 22 | loss: 0.62135 | val_0_logloss: 0.64692 |  0:07:35s\n",
            "epoch 23 | loss: 0.62105 | val_0_logloss: 0.6579  |  0:07:54s\n",
            "epoch 24 | loss: 0.62103 | val_0_logloss: 0.64243 |  0:08:13s\n",
            "epoch 25 | loss: 0.62086 | val_0_logloss: 0.64796 |  0:08:38s\n",
            "epoch 26 | loss: 0.62022 | val_0_logloss: 0.65122 |  0:08:57s\n",
            "epoch 27 | loss: 0.62015 | val_0_logloss: 0.65999 |  0:09:16s\n",
            "epoch 28 | loss: 0.62007 | val_0_logloss: 0.65475 |  0:09:36s\n",
            "epoch 29 | loss: 0.61994 | val_0_logloss: 0.65089 |  0:10:01s\n",
            "epoch 30 | loss: 0.61978 | val_0_logloss: 0.65513 |  0:10:22s\n",
            "epoch 31 | loss: 0.61952 | val_0_logloss: 0.65881 |  0:10:40s\n",
            "epoch 32 | loss: 0.61932 | val_0_logloss: 0.66126 |  0:10:58s\n",
            "epoch 33 | loss: 0.61935 | val_0_logloss: 0.65277 |  0:11:16s\n",
            "epoch 34 | loss: 0.61904 | val_0_logloss: 0.6509  |  0:11:36s\n",
            "\n",
            "Early stopping occurred at epoch 34 with best_epoch = 5 and best_val_0_logloss = 0.62554\n",
            "split 204001 51000\n",
            "0    168047\n",
            "1    168047\n",
            "Name: Delay_num, dtype: int64\n",
            "split after 336094 51000\n",
            "epoch 0  | loss: 0.70952 | val_0_logloss: 0.59456 |  0:00:16s\n",
            "epoch 1  | loss: 0.66607 | val_0_logloss: 0.69183 |  0:00:32s\n",
            "epoch 2  | loss: 0.66573 | val_0_logloss: 0.66455 |  0:00:48s\n",
            "epoch 3  | loss: 0.66453 | val_0_logloss: 0.664   |  0:01:05s\n",
            "epoch 4  | loss: 0.66436 | val_0_logloss: 0.69776 |  0:01:21s\n",
            "epoch 5  | loss: 0.66387 | val_0_logloss: 0.6686  |  0:01:39s\n",
            "epoch 6  | loss: 0.66296 | val_0_logloss: 0.66821 |  0:01:57s\n",
            "epoch 7  | loss: 0.6626  | val_0_logloss: 0.66855 |  0:02:18s\n",
            "epoch 8  | loss: 0.66139 | val_0_logloss: 0.6478  |  0:02:37s\n",
            "epoch 9  | loss: 0.65203 | val_0_logloss: 0.68458 |  0:02:55s\n",
            "epoch 10 | loss: 0.64977 | val_0_logloss: 0.66488 |  0:03:14s\n",
            "epoch 11 | loss: 0.64386 | val_0_logloss: 0.64052 |  0:03:33s\n",
            "epoch 12 | loss: 0.6347  | val_0_logloss: 0.63972 |  0:03:51s\n",
            "epoch 13 | loss: 0.63063 | val_0_logloss: 0.64881 |  0:04:09s\n",
            "epoch 14 | loss: 0.63002 | val_0_logloss: 0.6467  |  0:04:27s\n",
            "epoch 15 | loss: 0.62947 | val_0_logloss: 0.64733 |  0:04:44s\n",
            "epoch 16 | loss: 0.62835 | val_0_logloss: 0.66955 |  0:05:07s\n",
            "epoch 17 | loss: 0.62801 | val_0_logloss: 0.65322 |  0:05:29s\n",
            "epoch 18 | loss: 0.62814 | val_0_logloss: 0.65015 |  0:05:47s\n",
            "epoch 19 | loss: 0.62787 | val_0_logloss: 0.65592 |  0:06:08s\n",
            "epoch 20 | loss: 0.62784 | val_0_logloss: 0.66123 |  0:06:27s\n",
            "epoch 21 | loss: 0.62714 | val_0_logloss: 0.65561 |  0:06:45s\n",
            "epoch 22 | loss: 0.62706 | val_0_logloss: 0.65992 |  0:07:03s\n",
            "epoch 23 | loss: 0.62688 | val_0_logloss: 0.66128 |  0:07:21s\n",
            "epoch 24 | loss: 0.62678 | val_0_logloss: 0.66414 |  0:07:39s\n",
            "epoch 25 | loss: 0.62696 | val_0_logloss: 0.65532 |  0:07:58s\n",
            "epoch 26 | loss: 0.62628 | val_0_logloss: 0.6579  |  0:08:16s\n",
            "epoch 27 | loss: 0.62638 | val_0_logloss: 0.6535  |  0:08:33s\n",
            "epoch 28 | loss: 0.62614 | val_0_logloss: 0.66215 |  0:08:51s\n",
            "epoch 29 | loss: 0.62633 | val_0_logloss: 0.64917 |  0:09:09s\n",
            "\n",
            "Early stopping occurred at epoch 29 with best_epoch = 0 and best_val_0_logloss = 0.59456\n",
            "split 204001 51000\n",
            "0    168080\n",
            "1    168080\n",
            "Name: Delay_num, dtype: int64\n",
            "split after 336160 51000\n",
            "epoch 0  | loss: 0.71407 | val_0_logloss: 0.74671 |  0:00:16s\n",
            "epoch 1  | loss: 0.66606 | val_0_logloss: 0.62494 |  0:00:34s\n",
            "epoch 2  | loss: 0.6648  | val_0_logloss: 0.68311 |  0:00:50s\n",
            "epoch 3  | loss: 0.66439 | val_0_logloss: 0.67388 |  0:01:05s\n",
            "epoch 4  | loss: 0.66369 | val_0_logloss: 0.62559 |  0:01:21s\n",
            "epoch 5  | loss: 0.6627  | val_0_logloss: 0.63265 |  0:01:39s\n",
            "epoch 6  | loss: 0.66217 | val_0_logloss: 0.60533 |  0:01:58s\n",
            "epoch 7  | loss: 0.65005 | val_0_logloss: 0.66312 |  0:02:16s\n",
            "epoch 8  | loss: 0.64885 | val_0_logloss: 0.68492 |  0:02:34s\n",
            "epoch 9  | loss: 0.64884 | val_0_logloss: 0.66311 |  0:02:52s\n",
            "epoch 10 | loss: 0.64715 | val_0_logloss: 0.67284 |  0:03:10s\n",
            "epoch 11 | loss: 0.64442 | val_0_logloss: 0.68861 |  0:03:28s\n",
            "epoch 12 | loss: 0.64153 | val_0_logloss: 0.66357 |  0:03:47s\n",
            "epoch 13 | loss: 0.63298 | val_0_logloss: 0.65279 |  0:04:05s\n",
            "epoch 14 | loss: 0.63039 | val_0_logloss: 0.64611 |  0:04:25s\n",
            "epoch 15 | loss: 0.62869 | val_0_logloss: 0.65498 |  0:04:44s\n",
            "epoch 16 | loss: 0.62771 | val_0_logloss: 0.63238 |  0:05:02s\n",
            "epoch 17 | loss: 0.62653 | val_0_logloss: 0.65109 |  0:05:19s\n",
            "epoch 18 | loss: 0.62611 | val_0_logloss: 0.65671 |  0:05:37s\n",
            "epoch 19 | loss: 0.62562 | val_0_logloss: 0.67209 |  0:05:55s\n",
            "epoch 20 | loss: 0.62558 | val_0_logloss: 0.65457 |  0:06:13s\n",
            "epoch 21 | loss: 0.62544 | val_0_logloss: 0.66243 |  0:06:30s\n",
            "epoch 22 | loss: 0.62424 | val_0_logloss: 0.67694 |  0:06:48s\n",
            "epoch 23 | loss: 0.62408 | val_0_logloss: 0.67135 |  0:07:06s\n",
            "epoch 24 | loss: 0.62399 | val_0_logloss: 0.65555 |  0:07:29s\n",
            "epoch 25 | loss: 0.62362 | val_0_logloss: 0.64172 |  0:07:49s\n",
            "epoch 26 | loss: 0.62359 | val_0_logloss: 0.66107 |  0:08:08s\n",
            "epoch 27 | loss: 0.62274 | val_0_logloss: 0.65776 |  0:08:30s\n",
            "epoch 28 | loss: 0.62262 | val_0_logloss: 0.65391 |  0:08:49s\n",
            "epoch 29 | loss: 0.62255 | val_0_logloss: 0.65927 |  0:09:09s\n",
            "epoch 30 | loss: 0.62257 | val_0_logloss: 0.65894 |  0:09:28s\n",
            "epoch 31 | loss: 0.62267 | val_0_logloss: 0.66158 |  0:09:48s\n",
            "epoch 32 | loss: 0.62201 | val_0_logloss: 0.65899 |  0:10:08s\n",
            "epoch 33 | loss: 0.62183 | val_0_logloss: 0.67096 |  0:10:29s\n",
            "epoch 34 | loss: 0.62178 | val_0_logloss: 0.6551  |  0:10:50s\n",
            "epoch 35 | loss: 0.62183 | val_0_logloss: 0.6571  |  0:11:10s\n",
            "\n",
            "Early stopping occurred at epoch 35 with best_epoch = 6 and best_val_0_logloss = 0.60533\n",
            "split 204001 51000\n",
            "0    168030\n",
            "1    168030\n",
            "Name: Delay_num, dtype: int64\n",
            "split after 336060 51000\n",
            "epoch 0  | loss: 0.71024 | val_0_logloss: 0.68701 |  0:00:15s\n",
            "epoch 1  | loss: 0.66616 | val_0_logloss: 0.67443 |  0:00:31s\n",
            "epoch 2  | loss: 0.66346 | val_0_logloss: 0.68337 |  0:00:47s\n",
            "epoch 3  | loss: 0.66201 | val_0_logloss: 0.69632 |  0:01:07s\n",
            "epoch 4  | loss: 0.65929 | val_0_logloss: 0.6692  |  0:01:24s\n",
            "epoch 5  | loss: 0.65326 | val_0_logloss: 0.68738 |  0:01:42s\n",
            "epoch 6  | loss: 0.63878 | val_0_logloss: 0.67351 |  0:02:00s\n",
            "epoch 7  | loss: 0.63138 | val_0_logloss: 0.6656  |  0:02:18s\n",
            "epoch 8  | loss: 0.63066 | val_0_logloss: 0.69678 |  0:02:36s\n",
            "epoch 9  | loss: 0.63055 | val_0_logloss: 0.66361 |  0:02:53s\n",
            "epoch 10 | loss: 0.62973 | val_0_logloss: 0.6712  |  0:03:11s\n",
            "epoch 11 | loss: 0.62941 | val_0_logloss: 0.63834 |  0:03:30s\n",
            "epoch 12 | loss: 0.62871 | val_0_logloss: 0.64006 |  0:03:48s\n",
            "epoch 13 | loss: 0.62893 | val_0_logloss: 0.64145 |  0:04:06s\n",
            "epoch 14 | loss: 0.62798 | val_0_logloss: 0.67862 |  0:04:24s\n",
            "epoch 15 | loss: 0.62788 | val_0_logloss: 0.66418 |  0:04:44s\n",
            "epoch 16 | loss: 0.62752 | val_0_logloss: 0.66033 |  0:05:05s\n",
            "epoch 17 | loss: 0.62608 | val_0_logloss: 0.63805 |  0:05:23s\n",
            "epoch 18 | loss: 0.62557 | val_0_logloss: 0.65733 |  0:05:41s\n",
            "epoch 19 | loss: 0.62551 | val_0_logloss: 0.65745 |  0:06:01s\n",
            "epoch 20 | loss: 0.62517 | val_0_logloss: 0.68757 |  0:06:20s\n",
            "epoch 21 | loss: 0.62509 | val_0_logloss: 0.66632 |  0:06:39s\n",
            "epoch 22 | loss: 0.62512 | val_0_logloss: 0.67038 |  0:06:58s\n",
            "epoch 23 | loss: 0.62405 | val_0_logloss: 0.66215 |  0:07:16s\n",
            "epoch 24 | loss: 0.62352 | val_0_logloss: 0.65728 |  0:07:35s\n",
            "epoch 25 | loss: 0.62365 | val_0_logloss: 0.66725 |  0:07:53s\n",
            "epoch 26 | loss: 0.62351 | val_0_logloss: 0.64629 |  0:08:11s\n",
            "epoch 27 | loss: 0.62327 | val_0_logloss: 0.645   |  0:08:30s\n",
            "epoch 28 | loss: 0.6226  | val_0_logloss: 0.6632  |  0:08:51s\n",
            "epoch 29 | loss: 0.62211 | val_0_logloss: 0.67171 |  0:09:09s\n",
            "epoch 30 | loss: 0.62217 | val_0_logloss: 0.65047 |  0:09:28s\n",
            "epoch 31 | loss: 0.62222 | val_0_logloss: 0.64934 |  0:09:47s\n",
            "epoch 32 | loss: 0.62217 | val_0_logloss: 0.65605 |  0:10:06s\n",
            "epoch 33 | loss: 0.62184 | val_0_logloss: 0.65447 |  0:10:25s\n",
            "epoch 34 | loss: 0.62162 | val_0_logloss: 0.65433 |  0:10:44s\n",
            "epoch 35 | loss: 0.62122 | val_0_logloss: 0.66825 |  0:11:03s\n",
            "epoch 36 | loss: 0.62142 | val_0_logloss: 0.66447 |  0:11:23s\n",
            "epoch 37 | loss: 0.62154 | val_0_logloss: 0.66314 |  0:11:43s\n",
            "epoch 38 | loss: 0.62101 | val_0_logloss: 0.65627 |  0:12:03s\n",
            "epoch 39 | loss: 0.62116 | val_0_logloss: 0.66761 |  0:12:24s\n",
            "epoch 40 | loss: 0.62086 | val_0_logloss: 0.6548  |  0:12:45s\n",
            "epoch 41 | loss: 0.62109 | val_0_logloss: 0.65836 |  0:13:09s\n",
            "epoch 42 | loss: 0.62097 | val_0_logloss: 0.66219 |  0:13:29s\n",
            "epoch 43 | loss: 0.62082 | val_0_logloss: 0.65633 |  0:13:50s\n",
            "epoch 44 | loss: 0.62074 | val_0_logloss: 0.66118 |  0:14:11s\n",
            "epoch 45 | loss: 0.62068 | val_0_logloss: 0.65901 |  0:14:33s\n",
            "epoch 46 | loss: 0.62075 | val_0_logloss: 0.65404 |  0:14:54s\n",
            "\n",
            "Early stopping occurred at epoch 46 with best_epoch = 17 and best_val_0_logloss = 0.63805\n",
            "split 204001 51000\n",
            "0    167829\n",
            "1    167829\n",
            "Name: Delay_num, dtype: int64\n",
            "split after 335658 51000\n",
            "epoch 0  | loss: 0.71168 | val_0_logloss: 0.66836 |  0:00:15s\n",
            "epoch 1  | loss: 0.66631 | val_0_logloss: 0.65002 |  0:00:31s\n",
            "epoch 2  | loss: 0.66471 | val_0_logloss: 0.70468 |  0:00:47s\n",
            "epoch 3  | loss: 0.66372 | val_0_logloss: 0.65112 |  0:01:02s\n",
            "epoch 4  | loss: 0.65986 | val_0_logloss: 0.66087 |  0:01:18s\n",
            "epoch 5  | loss: 0.65173 | val_0_logloss: 0.70353 |  0:01:40s\n",
            "epoch 6  | loss: 0.63591 | val_0_logloss: 0.67751 |  0:01:57s\n",
            "epoch 7  | loss: 0.63044 | val_0_logloss: 0.67472 |  0:02:15s\n",
            "epoch 8  | loss: 0.62937 | val_0_logloss: 0.66722 |  0:02:33s\n",
            "epoch 9  | loss: 0.6291  | val_0_logloss: 0.68157 |  0:02:50s\n",
            "epoch 10 | loss: 0.62828 | val_0_logloss: 0.652   |  0:03:08s\n",
            "epoch 11 | loss: 0.62773 | val_0_logloss: 0.67617 |  0:03:26s\n",
            "epoch 12 | loss: 0.62654 | val_0_logloss: 0.64982 |  0:03:44s\n",
            "epoch 13 | loss: 0.6264  | val_0_logloss: 0.65205 |  0:04:02s\n",
            "epoch 14 | loss: 0.62625 | val_0_logloss: 0.62987 |  0:04:20s\n",
            "epoch 15 | loss: 0.62599 | val_0_logloss: 0.66934 |  0:04:38s\n",
            "epoch 16 | loss: 0.62567 | val_0_logloss: 0.66947 |  0:04:55s\n",
            "epoch 17 | loss: 0.62555 | val_0_logloss: 0.66532 |  0:05:13s\n",
            "epoch 18 | loss: 0.62531 | val_0_logloss: 0.67935 |  0:05:30s\n",
            "epoch 19 | loss: 0.62522 | val_0_logloss: 0.65617 |  0:05:50s\n",
            "epoch 20 | loss: 0.62405 | val_0_logloss: 0.65494 |  0:06:08s\n",
            "epoch 21 | loss: 0.62376 | val_0_logloss: 0.65026 |  0:06:25s\n",
            "epoch 22 | loss: 0.6237  | val_0_logloss: 0.65513 |  0:06:43s\n",
            "epoch 23 | loss: 0.62342 | val_0_logloss: 0.65283 |  0:07:01s\n",
            "epoch 24 | loss: 0.62341 | val_0_logloss: 0.66729 |  0:07:19s\n",
            "epoch 25 | loss: 0.62274 | val_0_logloss: 0.65859 |  0:07:37s\n",
            "epoch 26 | loss: 0.62265 | val_0_logloss: 0.65539 |  0:07:55s\n",
            "epoch 27 | loss: 0.62253 | val_0_logloss: 0.66277 |  0:08:13s\n",
            "epoch 28 | loss: 0.62232 | val_0_logloss: 0.65006 |  0:08:31s\n",
            "epoch 29 | loss: 0.62212 | val_0_logloss: 0.6684  |  0:08:49s\n",
            "epoch 30 | loss: 0.62189 | val_0_logloss: 0.65736 |  0:09:08s\n",
            "epoch 31 | loss: 0.62175 | val_0_logloss: 0.65587 |  0:09:27s\n",
            "epoch 32 | loss: 0.62179 | val_0_logloss: 0.66486 |  0:09:50s\n",
            "epoch 33 | loss: 0.6219  | val_0_logloss: 0.65419 |  0:10:09s\n",
            "epoch 34 | loss: 0.6219  | val_0_logloss: 0.65935 |  0:10:27s\n",
            "epoch 35 | loss: 0.62142 | val_0_logloss: 0.6543  |  0:10:46s\n",
            "epoch 36 | loss: 0.62141 | val_0_logloss: 0.65697 |  0:11:05s\n",
            "epoch 37 | loss: 0.62128 | val_0_logloss: 0.65529 |  0:11:24s\n",
            "epoch 38 | loss: 0.62117 | val_0_logloss: 0.65583 |  0:11:43s\n",
            "epoch 39 | loss: 0.62145 | val_0_logloss: 0.65322 |  0:12:03s\n",
            "epoch 40 | loss: 0.62102 | val_0_logloss: 0.66029 |  0:12:23s\n",
            "epoch 41 | loss: 0.62129 | val_0_logloss: 0.65793 |  0:12:43s\n",
            "epoch 42 | loss: 0.62096 | val_0_logloss: 0.65748 |  0:13:02s\n",
            "epoch 43 | loss: 0.62107 | val_0_logloss: 0.65744 |  0:13:21s\n",
            "\n",
            "Early stopping occurred at epoch 43 with best_epoch = 14 and best_val_0_logloss = 0.62987\n"
          ]
        },
        {
          "output_type": "stream",
          "name": "stderr",
          "text": [
            "\u001b[32m[I 2023-04-27 03:10:28,608]\u001b[0m Trial 0 finished with value: 0.6186694100672698 and parameters: {'mask_type': 'sparsemax', 'n_da': 60, 'n_steps': 1, 'gamma': 1.4, 'n_shared': 2, 'lambda_sparse': 1.791042080429475e-06, 'patienceScheduler': 4, 'patience': 29, 'epochs': 66}. Best is trial 0 with value: 0.6186694100672698.\u001b[0m\n"
          ]
        }
      ]
    },
    {
      "cell_type": "code",
      "source": [
        "TabNet_params = study.best_params"
      ],
      "metadata": {
        "id": "h_XYMOgUSbDi"
      },
      "execution_count": null,
      "outputs": []
    },
    {
      "cell_type": "code",
      "source": [
        "print(TabNet_params)"
      ],
      "metadata": {
        "colab": {
          "base_uri": "https://localhost:8080/"
        },
        "id": "i_dDlijtScW6",
        "outputId": "e7b3521e-d659-4c46-cb49-04df69fccc43"
      },
      "execution_count": null,
      "outputs": [
        {
          "output_type": "stream",
          "name": "stdout",
          "text": [
            "{'mask_type': 'sparsemax', 'n_da': 60, 'n_steps': 1, 'gamma': 1.4, 'n_shared': 2, 'lambda_sparse': 1.791042080429475e-06, 'patienceScheduler': 4, 'patience': 29, 'epochs': 66}\n"
          ]
        }
      ]
    },
    {
      "cell_type": "code",
      "source": [
        "final_params = dict(n_d=TabNet_params['n_da'], n_a=TabNet_params['n_da'], n_steps=TabNet_params['n_steps'], gamma=TabNet_params['gamma'],\n",
        "                     lambda_sparse=TabNet_params['lambda_sparse'], optimizer_fn=torch.optim.Adam,\n",
        "                     optimizer_params=dict(lr=2e-2, weight_decay=1e-5),\n",
        "                     mask_type=TabNet_params['mask_type'], n_shared=TabNet_params['n_shared'],\n",
        "                     scheduler_params=dict(mode=\"min\",\n",
        "                                           patience=TabNet_params['patienceScheduler'],\n",
        "                                           min_lr=1e-5,\n",
        "                                           factor=0.5,),\n",
        "                     scheduler_fn=torch.optim.lr_scheduler.ReduceLROnPlateau\n",
        "                     )\n",
        "epochs = TabNet_params['epochs']"
      ],
      "metadata": {
        "id": "WVw_h641SfRG"
      },
      "execution_count": null,
      "outputs": []
    },
    {
      "cell_type": "code",
      "source": [
        "x_smote, y_smote = BorderlineSMOTE(random_state=CFG.SEED).fit_resample(X,y)\n",
        "X_train=x_smote.to_numpy()\n",
        "y_train=y_smote.to_numpy()\n",
        "\n",
        "final_clf = TabNetClassifier(**final_params)\n",
        "final_clf.fit(X_train=X_train, y_train=y_train,\n",
        "          patience=TabNet_params['patience'], max_epochs=epochs,\n",
        "          eval_metric=['logloss'],\n",
        "          from_unsupervised=unsupervised_model)"
      ],
      "metadata": {
        "colab": {
          "base_uri": "https://localhost:8080/"
        },
        "id": "Lhhd3mkDSgkI",
        "outputId": "81d04612-7f2d-4f76-ac3a-6ebd99c9959c"
      },
      "execution_count": null,
      "outputs": [
        {
          "output_type": "stream",
          "name": "stdout",
          "text": [
            "epoch 0  | loss: 0.70238 |  0:00:18s\n",
            "epoch 1  | loss: 0.6658  |  0:00:37s\n",
            "epoch 2  | loss: 0.66454 |  0:00:57s\n",
            "epoch 3  | loss: 0.66371 |  0:01:21s\n",
            "epoch 4  | loss: 0.66368 |  0:01:41s\n",
            "epoch 5  | loss: 0.66319 |  0:02:02s\n",
            "epoch 6  | loss: 0.65151 |  0:02:23s\n",
            "epoch 7  | loss: 0.64666 |  0:02:45s\n",
            "epoch 8  | loss: 0.63633 |  0:03:05s\n",
            "epoch 9  | loss: 0.63013 |  0:03:25s\n",
            "epoch 10 | loss: 0.62975 |  0:03:46s\n",
            "epoch 11 | loss: 0.62962 |  0:04:06s\n",
            "epoch 12 | loss: 0.62938 |  0:04:28s\n",
            "epoch 13 | loss: 0.62897 |  0:04:48s\n",
            "epoch 14 | loss: 0.62871 |  0:05:11s\n",
            "epoch 15 | loss: 0.62876 |  0:05:31s\n",
            "epoch 16 | loss: 0.62844 |  0:05:53s\n",
            "epoch 17 | loss: 0.6284  |  0:06:14s\n",
            "epoch 18 | loss: 0.62854 |  0:06:34s\n",
            "epoch 19 | loss: 0.62844 |  0:06:54s\n",
            "epoch 20 | loss: 0.62818 |  0:07:15s\n",
            "epoch 21 | loss: 0.62802 |  0:07:36s\n",
            "epoch 22 | loss: 0.62811 |  0:07:58s\n",
            "epoch 23 | loss: 0.62798 |  0:08:18s\n",
            "epoch 24 | loss: 0.6281  |  0:08:39s\n",
            "epoch 25 | loss: 0.62785 |  0:08:59s\n",
            "epoch 26 | loss: 0.6277  |  0:09:23s\n",
            "epoch 27 | loss: 0.62774 |  0:09:44s\n",
            "epoch 28 | loss: 0.62779 |  0:10:05s\n",
            "epoch 29 | loss: 0.62794 |  0:10:25s\n",
            "epoch 30 | loss: 0.62798 |  0:10:45s\n",
            "epoch 31 | loss: 0.62764 |  0:11:07s\n",
            "epoch 32 | loss: 0.62802 |  0:11:29s\n",
            "epoch 33 | loss: 0.62819 |  0:11:49s\n",
            "epoch 34 | loss: 0.62806 |  0:12:09s\n",
            "epoch 35 | loss: 0.62774 |  0:12:29s\n",
            "epoch 36 | loss: 0.62778 |  0:12:49s\n",
            "epoch 37 | loss: 0.62778 |  0:13:12s\n",
            "epoch 38 | loss: 0.62801 |  0:13:35s\n",
            "epoch 39 | loss: 0.62756 |  0:13:55s\n",
            "epoch 40 | loss: 0.62752 |  0:14:15s\n",
            "epoch 41 | loss: 0.62792 |  0:14:35s\n",
            "epoch 42 | loss: 0.62752 |  0:14:56s\n",
            "epoch 43 | loss: 0.62751 |  0:15:18s\n",
            "epoch 44 | loss: 0.62761 |  0:15:38s\n",
            "epoch 45 | loss: 0.62745 |  0:15:59s\n",
            "epoch 46 | loss: 0.62782 |  0:16:20s\n",
            "epoch 47 | loss: 0.6279  |  0:16:41s\n",
            "epoch 48 | loss: 0.62758 |  0:17:02s\n",
            "epoch 49 | loss: 0.6281  |  0:17:25s\n",
            "epoch 50 | loss: 0.62784 |  0:17:46s\n",
            "epoch 51 | loss: 0.62779 |  0:18:08s\n",
            "epoch 52 | loss: 0.62762 |  0:18:30s\n",
            "epoch 53 | loss: 0.62757 |  0:18:51s\n",
            "epoch 54 | loss: 0.62724 |  0:19:11s\n",
            "epoch 55 | loss: 0.62772 |  0:19:31s\n",
            "epoch 56 | loss: 0.62777 |  0:19:51s\n",
            "epoch 57 | loss: 0.62747 |  0:20:11s\n",
            "epoch 58 | loss: 0.62743 |  0:20:33s\n",
            "epoch 59 | loss: 0.62752 |  0:20:54s\n",
            "epoch 60 | loss: 0.62766 |  0:21:14s\n",
            "epoch 61 | loss: 0.62806 |  0:21:36s\n",
            "epoch 62 | loss: 0.6278  |  0:21:56s\n",
            "epoch 63 | loss: 0.62765 |  0:22:17s\n",
            "epoch 64 | loss: 0.62787 |  0:22:38s\n",
            "epoch 65 | loss: 0.62806 |  0:22:58s\n"
          ]
        }
      ]
    },
    {
      "cell_type": "code",
      "source": [
        "preds=final_clf.predict(test.to_numpy())\n",
        "print(pd.DataFrame(preds).value_counts())\n",
        "\n",
        "pred_proba=final_clf.predict_proba(test.to_numpy())\n",
        "sample_submission['Not_Delayed']=list(pd.DataFrame(pred_proba)[0])\n",
        "sample_submission['Delayed']=list(pd.DataFrame(pred_proba)[1])"
      ],
      "metadata": {
        "colab": {
          "base_uri": "https://localhost:8080/"
        },
        "id": "Kut2kI72fe7R",
        "outputId": "c2aff1f0-c265-40fd-df99-bed93a66ae22"
      },
      "execution_count": null,
      "outputs": [
        {
          "output_type": "stream",
          "name": "stdout",
          "text": [
            "1    529622\n",
            "0    470378\n",
            "dtype: int64\n"
          ]
        }
      ]
    },
    {
      "cell_type": "code",
      "source": [
        "sample_submission.to_csv('sub_predtime_tabnet+Hdsmote_tuned.csv')\n",
        "# save tabnet model\n",
        "saving_path_name = \"predtime_tabnet+Hdsmote_tuned_fz\"\n",
        "saved_filepath = final_clf.save_model(saving_path_name)"
      ],
      "metadata": {
        "colab": {
          "base_uri": "https://localhost:8080/"
        },
        "id": "MSUme-VQffOy",
        "outputId": "1ac1b3e7-aca7-43ce-d68c-b869d32e2a1c"
      },
      "execution_count": null,
      "outputs": [
        {
          "output_type": "stream",
          "name": "stdout",
          "text": [
            "Successfully saved model at allnum_predtime_tabnet+Hdsmote_tuned_fz.zip\n"
          ]
        }
      ]
    },
    {
      "cell_type": "code",
      "source": [
        "sample_submission.to_csv('sub_predtime_tabnet+Hdsmote_tuned.csv')"
      ],
      "metadata": {
        "id": "xLLn5eGukt7p"
      },
      "execution_count": null,
      "outputs": []
    }
  ]
}